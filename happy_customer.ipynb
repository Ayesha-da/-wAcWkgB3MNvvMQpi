{
 "cells": [
  {
   "cell_type": "code",
   "execution_count": 1,
   "id": "b074e6a4",
   "metadata": {},
   "outputs": [],
   "source": [
    "import numpy as np\n",
    "import pandas as pd\n",
    "import matplotlib.pyplot as plt\n",
    "import seaborn as sns"
   ]
  },
  {
   "cell_type": "code",
   "execution_count": 2,
   "id": "68c395e1",
   "metadata": {},
   "outputs": [],
   "source": [
    "happy_df=pd.read_csv(\"ACME-HappinessSurvey2020.csv\")"
   ]
  },
  {
   "cell_type": "code",
   "execution_count": 3,
   "id": "ca1fcba0",
   "metadata": {},
   "outputs": [
    {
     "data": {
      "text/html": [
       "<div>\n",
       "<style scoped>\n",
       "    .dataframe tbody tr th:only-of-type {\n",
       "        vertical-align: middle;\n",
       "    }\n",
       "\n",
       "    .dataframe tbody tr th {\n",
       "        vertical-align: top;\n",
       "    }\n",
       "\n",
       "    .dataframe thead th {\n",
       "        text-align: right;\n",
       "    }\n",
       "</style>\n",
       "<table border=\"1\" class=\"dataframe\">\n",
       "  <thead>\n",
       "    <tr style=\"text-align: right;\">\n",
       "      <th></th>\n",
       "      <th>Y</th>\n",
       "      <th>X1</th>\n",
       "      <th>X2</th>\n",
       "      <th>X3</th>\n",
       "      <th>X4</th>\n",
       "      <th>X5</th>\n",
       "      <th>X6</th>\n",
       "    </tr>\n",
       "  </thead>\n",
       "  <tbody>\n",
       "    <tr>\n",
       "      <th>0</th>\n",
       "      <td>0</td>\n",
       "      <td>3</td>\n",
       "      <td>3</td>\n",
       "      <td>3</td>\n",
       "      <td>4</td>\n",
       "      <td>2</td>\n",
       "      <td>4</td>\n",
       "    </tr>\n",
       "    <tr>\n",
       "      <th>1</th>\n",
       "      <td>0</td>\n",
       "      <td>3</td>\n",
       "      <td>2</td>\n",
       "      <td>3</td>\n",
       "      <td>5</td>\n",
       "      <td>4</td>\n",
       "      <td>3</td>\n",
       "    </tr>\n",
       "    <tr>\n",
       "      <th>2</th>\n",
       "      <td>1</td>\n",
       "      <td>5</td>\n",
       "      <td>3</td>\n",
       "      <td>3</td>\n",
       "      <td>3</td>\n",
       "      <td>3</td>\n",
       "      <td>5</td>\n",
       "    </tr>\n",
       "    <tr>\n",
       "      <th>3</th>\n",
       "      <td>0</td>\n",
       "      <td>5</td>\n",
       "      <td>4</td>\n",
       "      <td>3</td>\n",
       "      <td>3</td>\n",
       "      <td>3</td>\n",
       "      <td>5</td>\n",
       "    </tr>\n",
       "    <tr>\n",
       "      <th>4</th>\n",
       "      <td>0</td>\n",
       "      <td>5</td>\n",
       "      <td>4</td>\n",
       "      <td>3</td>\n",
       "      <td>3</td>\n",
       "      <td>3</td>\n",
       "      <td>5</td>\n",
       "    </tr>\n",
       "    <tr>\n",
       "      <th>...</th>\n",
       "      <td>...</td>\n",
       "      <td>...</td>\n",
       "      <td>...</td>\n",
       "      <td>...</td>\n",
       "      <td>...</td>\n",
       "      <td>...</td>\n",
       "      <td>...</td>\n",
       "    </tr>\n",
       "    <tr>\n",
       "      <th>121</th>\n",
       "      <td>1</td>\n",
       "      <td>5</td>\n",
       "      <td>2</td>\n",
       "      <td>3</td>\n",
       "      <td>4</td>\n",
       "      <td>4</td>\n",
       "      <td>3</td>\n",
       "    </tr>\n",
       "    <tr>\n",
       "      <th>122</th>\n",
       "      <td>1</td>\n",
       "      <td>5</td>\n",
       "      <td>2</td>\n",
       "      <td>3</td>\n",
       "      <td>4</td>\n",
       "      <td>2</td>\n",
       "      <td>5</td>\n",
       "    </tr>\n",
       "    <tr>\n",
       "      <th>123</th>\n",
       "      <td>1</td>\n",
       "      <td>5</td>\n",
       "      <td>3</td>\n",
       "      <td>3</td>\n",
       "      <td>4</td>\n",
       "      <td>4</td>\n",
       "      <td>5</td>\n",
       "    </tr>\n",
       "    <tr>\n",
       "      <th>124</th>\n",
       "      <td>0</td>\n",
       "      <td>4</td>\n",
       "      <td>3</td>\n",
       "      <td>3</td>\n",
       "      <td>4</td>\n",
       "      <td>4</td>\n",
       "      <td>5</td>\n",
       "    </tr>\n",
       "    <tr>\n",
       "      <th>125</th>\n",
       "      <td>0</td>\n",
       "      <td>5</td>\n",
       "      <td>3</td>\n",
       "      <td>2</td>\n",
       "      <td>5</td>\n",
       "      <td>5</td>\n",
       "      <td>5</td>\n",
       "    </tr>\n",
       "  </tbody>\n",
       "</table>\n",
       "<p>126 rows × 7 columns</p>\n",
       "</div>"
      ],
      "text/plain": [
       "     Y  X1  X2  X3  X4  X5  X6\n",
       "0    0   3   3   3   4   2   4\n",
       "1    0   3   2   3   5   4   3\n",
       "2    1   5   3   3   3   3   5\n",
       "3    0   5   4   3   3   3   5\n",
       "4    0   5   4   3   3   3   5\n",
       "..  ..  ..  ..  ..  ..  ..  ..\n",
       "121  1   5   2   3   4   4   3\n",
       "122  1   5   2   3   4   2   5\n",
       "123  1   5   3   3   4   4   5\n",
       "124  0   4   3   3   4   4   5\n",
       "125  0   5   3   2   5   5   5\n",
       "\n",
       "[126 rows x 7 columns]"
      ]
     },
     "execution_count": 3,
     "metadata": {},
     "output_type": "execute_result"
    }
   ],
   "source": [
    "happy_df"
   ]
  },
  {
   "cell_type": "markdown",
   "id": "ca37c456",
   "metadata": {},
   "source": [
    "Data Description:\n",
    "\n",
    "Y = target attribute (Y) with values indicating 0 (unhappy) and 1 (happy) customers\n",
    "\n",
    "X1 = my order was delivered on time\n",
    "\n",
    "X2 = contents of my order was as I expected\n",
    "\n",
    "X3 = I ordered everything I wanted to order\n",
    "\n",
    "X4 = I paid a good price for my order\n",
    "\n",
    "X5 = I am satisfied with my courier\n",
    "\n",
    "X6 = the app makes ordering easy for me"
   ]
  },
  {
   "cell_type": "code",
   "execution_count": 4,
   "id": "3cedb191",
   "metadata": {},
   "outputs": [
    {
     "data": {
      "text/html": [
       "<div>\n",
       "<style scoped>\n",
       "    .dataframe tbody tr th:only-of-type {\n",
       "        vertical-align: middle;\n",
       "    }\n",
       "\n",
       "    .dataframe tbody tr th {\n",
       "        vertical-align: top;\n",
       "    }\n",
       "\n",
       "    .dataframe thead th {\n",
       "        text-align: right;\n",
       "    }\n",
       "</style>\n",
       "<table border=\"1\" class=\"dataframe\">\n",
       "  <thead>\n",
       "    <tr style=\"text-align: right;\">\n",
       "      <th></th>\n",
       "      <th>happiness</th>\n",
       "      <th>delivered_OnTime</th>\n",
       "      <th>order_satisfaction</th>\n",
       "      <th>order_completed</th>\n",
       "      <th>price_satisfaction</th>\n",
       "      <th>courier_satisfaction</th>\n",
       "      <th>app_satisfaction</th>\n",
       "    </tr>\n",
       "  </thead>\n",
       "  <tbody>\n",
       "    <tr>\n",
       "      <th>0</th>\n",
       "      <td>0</td>\n",
       "      <td>3</td>\n",
       "      <td>3</td>\n",
       "      <td>3</td>\n",
       "      <td>4</td>\n",
       "      <td>2</td>\n",
       "      <td>4</td>\n",
       "    </tr>\n",
       "    <tr>\n",
       "      <th>1</th>\n",
       "      <td>0</td>\n",
       "      <td>3</td>\n",
       "      <td>2</td>\n",
       "      <td>3</td>\n",
       "      <td>5</td>\n",
       "      <td>4</td>\n",
       "      <td>3</td>\n",
       "    </tr>\n",
       "    <tr>\n",
       "      <th>2</th>\n",
       "      <td>1</td>\n",
       "      <td>5</td>\n",
       "      <td>3</td>\n",
       "      <td>3</td>\n",
       "      <td>3</td>\n",
       "      <td>3</td>\n",
       "      <td>5</td>\n",
       "    </tr>\n",
       "    <tr>\n",
       "      <th>3</th>\n",
       "      <td>0</td>\n",
       "      <td>5</td>\n",
       "      <td>4</td>\n",
       "      <td>3</td>\n",
       "      <td>3</td>\n",
       "      <td>3</td>\n",
       "      <td>5</td>\n",
       "    </tr>\n",
       "    <tr>\n",
       "      <th>4</th>\n",
       "      <td>0</td>\n",
       "      <td>5</td>\n",
       "      <td>4</td>\n",
       "      <td>3</td>\n",
       "      <td>3</td>\n",
       "      <td>3</td>\n",
       "      <td>5</td>\n",
       "    </tr>\n",
       "  </tbody>\n",
       "</table>\n",
       "</div>"
      ],
      "text/plain": [
       "   happiness  delivered_OnTime  order_satisfaction  order_completed  \\\n",
       "0          0                 3                   3                3   \n",
       "1          0                 3                   2                3   \n",
       "2          1                 5                   3                3   \n",
       "3          0                 5                   4                3   \n",
       "4          0                 5                   4                3   \n",
       "\n",
       "   price_satisfaction  courier_satisfaction  app_satisfaction  \n",
       "0                   4                     2                 4  \n",
       "1                   5                     4                 3  \n",
       "2                   3                     3                 5  \n",
       "3                   3                     3                 5  \n",
       "4                   3                     3                 5  "
      ]
     },
     "execution_count": 4,
     "metadata": {},
     "output_type": "execute_result"
    }
   ],
   "source": [
    "# rename columns to a user readable format\n",
    "old_name = list(happy_df.columns)\n",
    "new_name = ['happiness','delivered_OnTime', 'order_satisfaction', 'order_completed', 'price_satisfaction', \n",
    "            'courier_satisfaction', 'app_satisfaction']\n",
    "\n",
    "happy_df.rename(columns = (dict(zip(old_name, new_name))), inplace = True)\n",
    "happy_df.head()"
   ]
  },
  {
   "cell_type": "code",
   "execution_count": 5,
   "id": "9835dddd",
   "metadata": {},
   "outputs": [
    {
     "data": {
      "text/plain": [
       "(126, 7)"
      ]
     },
     "execution_count": 5,
     "metadata": {},
     "output_type": "execute_result"
    }
   ],
   "source": [
    "happy_df.shape"
   ]
  },
  {
   "cell_type": "code",
   "execution_count": 6,
   "id": "e8484e95",
   "metadata": {},
   "outputs": [
    {
     "name": "stdout",
     "output_type": "stream",
     "text": [
      "<class 'pandas.core.frame.DataFrame'>\n",
      "RangeIndex: 126 entries, 0 to 125\n",
      "Data columns (total 7 columns):\n",
      " #   Column                Non-Null Count  Dtype\n",
      "---  ------                --------------  -----\n",
      " 0   happiness             126 non-null    int64\n",
      " 1   delivered_OnTime      126 non-null    int64\n",
      " 2   order_satisfaction    126 non-null    int64\n",
      " 3   order_completed       126 non-null    int64\n",
      " 4   price_satisfaction    126 non-null    int64\n",
      " 5   courier_satisfaction  126 non-null    int64\n",
      " 6   app_satisfaction      126 non-null    int64\n",
      "dtypes: int64(7)\n",
      "memory usage: 7.0 KB\n"
     ]
    }
   ],
   "source": [
    "happy_df.info()"
   ]
  },
  {
   "cell_type": "code",
   "execution_count": 7,
   "id": "2bf81a1a",
   "metadata": {},
   "outputs": [
    {
     "data": {
      "text/html": [
       "<div>\n",
       "<style scoped>\n",
       "    .dataframe tbody tr th:only-of-type {\n",
       "        vertical-align: middle;\n",
       "    }\n",
       "\n",
       "    .dataframe tbody tr th {\n",
       "        vertical-align: top;\n",
       "    }\n",
       "\n",
       "    .dataframe thead th {\n",
       "        text-align: right;\n",
       "    }\n",
       "</style>\n",
       "<table border=\"1\" class=\"dataframe\">\n",
       "  <thead>\n",
       "    <tr style=\"text-align: right;\">\n",
       "      <th></th>\n",
       "      <th>happiness</th>\n",
       "      <th>delivered_OnTime</th>\n",
       "      <th>order_satisfaction</th>\n",
       "      <th>order_completed</th>\n",
       "      <th>price_satisfaction</th>\n",
       "      <th>courier_satisfaction</th>\n",
       "      <th>app_satisfaction</th>\n",
       "    </tr>\n",
       "  </thead>\n",
       "  <tbody>\n",
       "    <tr>\n",
       "      <th>count</th>\n",
       "      <td>126.000000</td>\n",
       "      <td>126.000000</td>\n",
       "      <td>126.000000</td>\n",
       "      <td>126.000000</td>\n",
       "      <td>126.000000</td>\n",
       "      <td>126.000000</td>\n",
       "      <td>126.000000</td>\n",
       "    </tr>\n",
       "    <tr>\n",
       "      <th>mean</th>\n",
       "      <td>0.547619</td>\n",
       "      <td>4.333333</td>\n",
       "      <td>2.531746</td>\n",
       "      <td>3.309524</td>\n",
       "      <td>3.746032</td>\n",
       "      <td>3.650794</td>\n",
       "      <td>4.253968</td>\n",
       "    </tr>\n",
       "    <tr>\n",
       "      <th>std</th>\n",
       "      <td>0.499714</td>\n",
       "      <td>0.800000</td>\n",
       "      <td>1.114892</td>\n",
       "      <td>1.023440</td>\n",
       "      <td>0.875776</td>\n",
       "      <td>1.147641</td>\n",
       "      <td>0.809311</td>\n",
       "    </tr>\n",
       "    <tr>\n",
       "      <th>min</th>\n",
       "      <td>0.000000</td>\n",
       "      <td>1.000000</td>\n",
       "      <td>1.000000</td>\n",
       "      <td>1.000000</td>\n",
       "      <td>1.000000</td>\n",
       "      <td>1.000000</td>\n",
       "      <td>1.000000</td>\n",
       "    </tr>\n",
       "    <tr>\n",
       "      <th>25%</th>\n",
       "      <td>0.000000</td>\n",
       "      <td>4.000000</td>\n",
       "      <td>2.000000</td>\n",
       "      <td>3.000000</td>\n",
       "      <td>3.000000</td>\n",
       "      <td>3.000000</td>\n",
       "      <td>4.000000</td>\n",
       "    </tr>\n",
       "    <tr>\n",
       "      <th>50%</th>\n",
       "      <td>1.000000</td>\n",
       "      <td>5.000000</td>\n",
       "      <td>3.000000</td>\n",
       "      <td>3.000000</td>\n",
       "      <td>4.000000</td>\n",
       "      <td>4.000000</td>\n",
       "      <td>4.000000</td>\n",
       "    </tr>\n",
       "    <tr>\n",
       "      <th>75%</th>\n",
       "      <td>1.000000</td>\n",
       "      <td>5.000000</td>\n",
       "      <td>3.000000</td>\n",
       "      <td>4.000000</td>\n",
       "      <td>4.000000</td>\n",
       "      <td>4.000000</td>\n",
       "      <td>5.000000</td>\n",
       "    </tr>\n",
       "    <tr>\n",
       "      <th>max</th>\n",
       "      <td>1.000000</td>\n",
       "      <td>5.000000</td>\n",
       "      <td>5.000000</td>\n",
       "      <td>5.000000</td>\n",
       "      <td>5.000000</td>\n",
       "      <td>5.000000</td>\n",
       "      <td>5.000000</td>\n",
       "    </tr>\n",
       "  </tbody>\n",
       "</table>\n",
       "</div>"
      ],
      "text/plain": [
       "        happiness  delivered_OnTime  order_satisfaction  order_completed  \\\n",
       "count  126.000000        126.000000          126.000000       126.000000   \n",
       "mean     0.547619          4.333333            2.531746         3.309524   \n",
       "std      0.499714          0.800000            1.114892         1.023440   \n",
       "min      0.000000          1.000000            1.000000         1.000000   \n",
       "25%      0.000000          4.000000            2.000000         3.000000   \n",
       "50%      1.000000          5.000000            3.000000         3.000000   \n",
       "75%      1.000000          5.000000            3.000000         4.000000   \n",
       "max      1.000000          5.000000            5.000000         5.000000   \n",
       "\n",
       "       price_satisfaction  courier_satisfaction  app_satisfaction  \n",
       "count          126.000000            126.000000        126.000000  \n",
       "mean             3.746032              3.650794          4.253968  \n",
       "std              0.875776              1.147641          0.809311  \n",
       "min              1.000000              1.000000          1.000000  \n",
       "25%              3.000000              3.000000          4.000000  \n",
       "50%              4.000000              4.000000          4.000000  \n",
       "75%              4.000000              4.000000          5.000000  \n",
       "max              5.000000              5.000000          5.000000  "
      ]
     },
     "execution_count": 7,
     "metadata": {},
     "output_type": "execute_result"
    }
   ],
   "source": [
    "happy_df.describe(include = \"all\")"
   ]
  },
  {
   "cell_type": "code",
   "execution_count": 8,
   "id": "558137e5",
   "metadata": {},
   "outputs": [
    {
     "name": "stdout",
     "output_type": "stream",
     "text": [
      "Skewness:  \n",
      " happiness              -0.193659\n",
      "delivered_OnTime       -1.058468\n",
      "order_satisfaction      0.271000\n",
      "order_completed        -0.199536\n",
      "price_satisfaction     -0.422240\n",
      "courier_satisfaction   -0.699999\n",
      "app_satisfaction       -0.957590\n",
      "dtype: float64\n",
      " \n",
      "Kurtosis:  \n",
      " happiness              -1.994412\n",
      "delivered_OnTime        1.024968\n",
      "order_satisfaction     -0.601168\n",
      "order_completed        -0.111410\n",
      "price_satisfaction      0.278617\n",
      "courier_satisfaction   -0.306418\n",
      "app_satisfaction        0.941835\n",
      "dtype: float64\n"
     ]
    }
   ],
   "source": [
    "## skewness and kurtosis\n",
    "\n",
    "print(\"Skewness: \", \"\\n\", happy_df.skew())\n",
    "print(\" \")\n",
    "print(\"Kurtosis: \", \"\\n\", happy_df.kurtosis())"
   ]
  },
  {
   "cell_type": "code",
   "execution_count": 9,
   "id": "de1ce3ad",
   "metadata": {},
   "outputs": [
    {
     "data": {
      "text/html": [
       "<div>\n",
       "<style scoped>\n",
       "    .dataframe tbody tr th:only-of-type {\n",
       "        vertical-align: middle;\n",
       "    }\n",
       "\n",
       "    .dataframe tbody tr th {\n",
       "        vertical-align: top;\n",
       "    }\n",
       "\n",
       "    .dataframe thead th {\n",
       "        text-align: right;\n",
       "    }\n",
       "</style>\n",
       "<table border=\"1\" class=\"dataframe\">\n",
       "  <thead>\n",
       "    <tr style=\"text-align: right;\">\n",
       "      <th></th>\n",
       "      <th>happiness</th>\n",
       "      <th>delivered_OnTime</th>\n",
       "      <th>order_satisfaction</th>\n",
       "      <th>order_completed</th>\n",
       "      <th>price_satisfaction</th>\n",
       "      <th>courier_satisfaction</th>\n",
       "      <th>app_satisfaction</th>\n",
       "    </tr>\n",
       "  </thead>\n",
       "  <tbody>\n",
       "    <tr>\n",
       "      <th>happiness</th>\n",
       "      <td>1.000000</td>\n",
       "      <td>0.280160</td>\n",
       "      <td>-0.024274</td>\n",
       "      <td>0.150838</td>\n",
       "      <td>0.064415</td>\n",
       "      <td>0.224522</td>\n",
       "      <td>0.167669</td>\n",
       "    </tr>\n",
       "    <tr>\n",
       "      <th>delivered_OnTime</th>\n",
       "      <td>0.280160</td>\n",
       "      <td>1.000000</td>\n",
       "      <td>0.059797</td>\n",
       "      <td>0.283358</td>\n",
       "      <td>0.087541</td>\n",
       "      <td>0.432772</td>\n",
       "      <td>0.411873</td>\n",
       "    </tr>\n",
       "    <tr>\n",
       "      <th>order_satisfaction</th>\n",
       "      <td>-0.024274</td>\n",
       "      <td>0.059797</td>\n",
       "      <td>1.000000</td>\n",
       "      <td>0.184129</td>\n",
       "      <td>0.114838</td>\n",
       "      <td>0.039996</td>\n",
       "      <td>-0.062205</td>\n",
       "    </tr>\n",
       "    <tr>\n",
       "      <th>order_completed</th>\n",
       "      <td>0.150838</td>\n",
       "      <td>0.283358</td>\n",
       "      <td>0.184129</td>\n",
       "      <td>1.000000</td>\n",
       "      <td>0.302618</td>\n",
       "      <td>0.358397</td>\n",
       "      <td>0.203750</td>\n",
       "    </tr>\n",
       "    <tr>\n",
       "      <th>price_satisfaction</th>\n",
       "      <td>0.064415</td>\n",
       "      <td>0.087541</td>\n",
       "      <td>0.114838</td>\n",
       "      <td>0.302618</td>\n",
       "      <td>1.000000</td>\n",
       "      <td>0.293115</td>\n",
       "      <td>0.215888</td>\n",
       "    </tr>\n",
       "    <tr>\n",
       "      <th>courier_satisfaction</th>\n",
       "      <td>0.224522</td>\n",
       "      <td>0.432772</td>\n",
       "      <td>0.039996</td>\n",
       "      <td>0.358397</td>\n",
       "      <td>0.293115</td>\n",
       "      <td>1.000000</td>\n",
       "      <td>0.320195</td>\n",
       "    </tr>\n",
       "    <tr>\n",
       "      <th>app_satisfaction</th>\n",
       "      <td>0.167669</td>\n",
       "      <td>0.411873</td>\n",
       "      <td>-0.062205</td>\n",
       "      <td>0.203750</td>\n",
       "      <td>0.215888</td>\n",
       "      <td>0.320195</td>\n",
       "      <td>1.000000</td>\n",
       "    </tr>\n",
       "  </tbody>\n",
       "</table>\n",
       "</div>"
      ],
      "text/plain": [
       "                      happiness  delivered_OnTime  order_satisfaction  \\\n",
       "happiness              1.000000          0.280160           -0.024274   \n",
       "delivered_OnTime       0.280160          1.000000            0.059797   \n",
       "order_satisfaction    -0.024274          0.059797            1.000000   \n",
       "order_completed        0.150838          0.283358            0.184129   \n",
       "price_satisfaction     0.064415          0.087541            0.114838   \n",
       "courier_satisfaction   0.224522          0.432772            0.039996   \n",
       "app_satisfaction       0.167669          0.411873           -0.062205   \n",
       "\n",
       "                      order_completed  price_satisfaction  \\\n",
       "happiness                    0.150838            0.064415   \n",
       "delivered_OnTime             0.283358            0.087541   \n",
       "order_satisfaction           0.184129            0.114838   \n",
       "order_completed              1.000000            0.302618   \n",
       "price_satisfaction           0.302618            1.000000   \n",
       "courier_satisfaction         0.358397            0.293115   \n",
       "app_satisfaction             0.203750            0.215888   \n",
       "\n",
       "                      courier_satisfaction  app_satisfaction  \n",
       "happiness                         0.224522          0.167669  \n",
       "delivered_OnTime                  0.432772          0.411873  \n",
       "order_satisfaction                0.039996         -0.062205  \n",
       "order_completed                   0.358397          0.203750  \n",
       "price_satisfaction                0.293115          0.215888  \n",
       "courier_satisfaction              1.000000          0.320195  \n",
       "app_satisfaction                  0.320195          1.000000  "
      ]
     },
     "execution_count": 9,
     "metadata": {},
     "output_type": "execute_result"
    }
   ],
   "source": [
    "## Check Multicollinearity\n",
    "\n",
    "happy_df.corr(method = \"pearson\")"
   ]
  },
  {
   "cell_type": "code",
   "execution_count": 10,
   "id": "09873033",
   "metadata": {},
   "outputs": [
    {
     "data": {
      "text/html": [
       "<div>\n",
       "<style scoped>\n",
       "    .dataframe tbody tr th:only-of-type {\n",
       "        vertical-align: middle;\n",
       "    }\n",
       "\n",
       "    .dataframe tbody tr th {\n",
       "        vertical-align: top;\n",
       "    }\n",
       "\n",
       "    .dataframe thead th {\n",
       "        text-align: right;\n",
       "    }\n",
       "</style>\n",
       "<table border=\"1\" class=\"dataframe\">\n",
       "  <thead>\n",
       "    <tr style=\"text-align: right;\">\n",
       "      <th></th>\n",
       "      <th>happiness</th>\n",
       "      <th>delivered_OnTime</th>\n",
       "      <th>order_satisfaction</th>\n",
       "      <th>order_completed</th>\n",
       "      <th>price_satisfaction</th>\n",
       "      <th>courier_satisfaction</th>\n",
       "      <th>app_satisfaction</th>\n",
       "    </tr>\n",
       "  </thead>\n",
       "  <tbody>\n",
       "    <tr>\n",
       "      <th>happiness</th>\n",
       "      <td>True</td>\n",
       "      <td>False</td>\n",
       "      <td>False</td>\n",
       "      <td>False</td>\n",
       "      <td>False</td>\n",
       "      <td>False</td>\n",
       "      <td>False</td>\n",
       "    </tr>\n",
       "    <tr>\n",
       "      <th>delivered_OnTime</th>\n",
       "      <td>False</td>\n",
       "      <td>True</td>\n",
       "      <td>False</td>\n",
       "      <td>False</td>\n",
       "      <td>False</td>\n",
       "      <td>False</td>\n",
       "      <td>False</td>\n",
       "    </tr>\n",
       "    <tr>\n",
       "      <th>order_satisfaction</th>\n",
       "      <td>False</td>\n",
       "      <td>False</td>\n",
       "      <td>True</td>\n",
       "      <td>False</td>\n",
       "      <td>False</td>\n",
       "      <td>False</td>\n",
       "      <td>False</td>\n",
       "    </tr>\n",
       "    <tr>\n",
       "      <th>order_completed</th>\n",
       "      <td>False</td>\n",
       "      <td>False</td>\n",
       "      <td>False</td>\n",
       "      <td>True</td>\n",
       "      <td>False</td>\n",
       "      <td>False</td>\n",
       "      <td>False</td>\n",
       "    </tr>\n",
       "    <tr>\n",
       "      <th>price_satisfaction</th>\n",
       "      <td>False</td>\n",
       "      <td>False</td>\n",
       "      <td>False</td>\n",
       "      <td>False</td>\n",
       "      <td>True</td>\n",
       "      <td>False</td>\n",
       "      <td>False</td>\n",
       "    </tr>\n",
       "    <tr>\n",
       "      <th>courier_satisfaction</th>\n",
       "      <td>False</td>\n",
       "      <td>False</td>\n",
       "      <td>False</td>\n",
       "      <td>False</td>\n",
       "      <td>False</td>\n",
       "      <td>True</td>\n",
       "      <td>False</td>\n",
       "    </tr>\n",
       "    <tr>\n",
       "      <th>app_satisfaction</th>\n",
       "      <td>False</td>\n",
       "      <td>False</td>\n",
       "      <td>False</td>\n",
       "      <td>False</td>\n",
       "      <td>False</td>\n",
       "      <td>False</td>\n",
       "      <td>True</td>\n",
       "    </tr>\n",
       "  </tbody>\n",
       "</table>\n",
       "</div>"
      ],
      "text/plain": [
       "                      happiness  delivered_OnTime  order_satisfaction  \\\n",
       "happiness                  True             False               False   \n",
       "delivered_OnTime          False              True               False   \n",
       "order_satisfaction        False             False                True   \n",
       "order_completed           False             False               False   \n",
       "price_satisfaction        False             False               False   \n",
       "courier_satisfaction      False             False               False   \n",
       "app_satisfaction          False             False               False   \n",
       "\n",
       "                      order_completed  price_satisfaction  \\\n",
       "happiness                       False               False   \n",
       "delivered_OnTime                False               False   \n",
       "order_satisfaction              False               False   \n",
       "order_completed                  True               False   \n",
       "price_satisfaction              False                True   \n",
       "courier_satisfaction            False               False   \n",
       "app_satisfaction                False               False   \n",
       "\n",
       "                      courier_satisfaction  app_satisfaction  \n",
       "happiness                            False             False  \n",
       "delivered_OnTime                     False             False  \n",
       "order_satisfaction                   False             False  \n",
       "order_completed                      False             False  \n",
       "price_satisfaction                   False             False  \n",
       "courier_satisfaction                  True             False  \n",
       "app_satisfaction                     False              True  "
      ]
     },
     "execution_count": 10,
     "metadata": {},
     "output_type": "execute_result"
    }
   ],
   "source": [
    "## Check Multicollinearity\n",
    "\n",
    "happy_df.corr(method = \"pearson\") > 0.85"
   ]
  },
  {
   "cell_type": "code",
   "execution_count": 11,
   "id": "422789f5",
   "metadata": {},
   "outputs": [
    {
     "name": "stdout",
     "output_type": "stream",
     "text": [
      "happiness: [0 1]\n",
      "delivered_OnTime: [3 5 4 1]\n",
      "order_satisfaction: [3 2 4 5 1]\n",
      "order_completed: [3 2 4 5 1]\n",
      "price_satisfaction: [4 5 3 2 1]\n",
      "courier_satisfaction: [2 4 3 5 1]\n",
      "app_satisfaction: [4 3 5 2 1]\n"
     ]
    }
   ],
   "source": [
    "for i in happy_df.columns:\n",
    "    print(f'{i}: {happy_df[i].unique()}')"
   ]
  },
  {
   "cell_type": "code",
   "execution_count": null,
   "id": "6de32928",
   "metadata": {},
   "outputs": [],
   "source": []
  },
  {
   "cell_type": "markdown",
   "id": "62392f2e",
   "metadata": {},
   "source": [
    "# split data into training and testing"
   ]
  },
  {
   "cell_type": "code",
   "execution_count": 12,
   "id": "414a5284",
   "metadata": {},
   "outputs": [
    {
     "data": {
      "text/html": [
       "<div>\n",
       "<style scoped>\n",
       "    .dataframe tbody tr th:only-of-type {\n",
       "        vertical-align: middle;\n",
       "    }\n",
       "\n",
       "    .dataframe tbody tr th {\n",
       "        vertical-align: top;\n",
       "    }\n",
       "\n",
       "    .dataframe thead th {\n",
       "        text-align: right;\n",
       "    }\n",
       "</style>\n",
       "<table border=\"1\" class=\"dataframe\">\n",
       "  <thead>\n",
       "    <tr style=\"text-align: right;\">\n",
       "      <th></th>\n",
       "      <th>delivered_OnTime</th>\n",
       "      <th>order_satisfaction</th>\n",
       "      <th>order_completed</th>\n",
       "      <th>price_satisfaction</th>\n",
       "      <th>courier_satisfaction</th>\n",
       "      <th>app_satisfaction</th>\n",
       "    </tr>\n",
       "  </thead>\n",
       "  <tbody>\n",
       "    <tr>\n",
       "      <th>0</th>\n",
       "      <td>3</td>\n",
       "      <td>3</td>\n",
       "      <td>3</td>\n",
       "      <td>4</td>\n",
       "      <td>2</td>\n",
       "      <td>4</td>\n",
       "    </tr>\n",
       "    <tr>\n",
       "      <th>1</th>\n",
       "      <td>3</td>\n",
       "      <td>2</td>\n",
       "      <td>3</td>\n",
       "      <td>5</td>\n",
       "      <td>4</td>\n",
       "      <td>3</td>\n",
       "    </tr>\n",
       "    <tr>\n",
       "      <th>2</th>\n",
       "      <td>5</td>\n",
       "      <td>3</td>\n",
       "      <td>3</td>\n",
       "      <td>3</td>\n",
       "      <td>3</td>\n",
       "      <td>5</td>\n",
       "    </tr>\n",
       "    <tr>\n",
       "      <th>3</th>\n",
       "      <td>5</td>\n",
       "      <td>4</td>\n",
       "      <td>3</td>\n",
       "      <td>3</td>\n",
       "      <td>3</td>\n",
       "      <td>5</td>\n",
       "    </tr>\n",
       "    <tr>\n",
       "      <th>4</th>\n",
       "      <td>5</td>\n",
       "      <td>4</td>\n",
       "      <td>3</td>\n",
       "      <td>3</td>\n",
       "      <td>3</td>\n",
       "      <td>5</td>\n",
       "    </tr>\n",
       "    <tr>\n",
       "      <th>...</th>\n",
       "      <td>...</td>\n",
       "      <td>...</td>\n",
       "      <td>...</td>\n",
       "      <td>...</td>\n",
       "      <td>...</td>\n",
       "      <td>...</td>\n",
       "    </tr>\n",
       "    <tr>\n",
       "      <th>121</th>\n",
       "      <td>5</td>\n",
       "      <td>2</td>\n",
       "      <td>3</td>\n",
       "      <td>4</td>\n",
       "      <td>4</td>\n",
       "      <td>3</td>\n",
       "    </tr>\n",
       "    <tr>\n",
       "      <th>122</th>\n",
       "      <td>5</td>\n",
       "      <td>2</td>\n",
       "      <td>3</td>\n",
       "      <td>4</td>\n",
       "      <td>2</td>\n",
       "      <td>5</td>\n",
       "    </tr>\n",
       "    <tr>\n",
       "      <th>123</th>\n",
       "      <td>5</td>\n",
       "      <td>3</td>\n",
       "      <td>3</td>\n",
       "      <td>4</td>\n",
       "      <td>4</td>\n",
       "      <td>5</td>\n",
       "    </tr>\n",
       "    <tr>\n",
       "      <th>124</th>\n",
       "      <td>4</td>\n",
       "      <td>3</td>\n",
       "      <td>3</td>\n",
       "      <td>4</td>\n",
       "      <td>4</td>\n",
       "      <td>5</td>\n",
       "    </tr>\n",
       "    <tr>\n",
       "      <th>125</th>\n",
       "      <td>5</td>\n",
       "      <td>3</td>\n",
       "      <td>2</td>\n",
       "      <td>5</td>\n",
       "      <td>5</td>\n",
       "      <td>5</td>\n",
       "    </tr>\n",
       "  </tbody>\n",
       "</table>\n",
       "<p>126 rows × 6 columns</p>\n",
       "</div>"
      ],
      "text/plain": [
       "     delivered_OnTime  order_satisfaction  order_completed  \\\n",
       "0                   3                   3                3   \n",
       "1                   3                   2                3   \n",
       "2                   5                   3                3   \n",
       "3                   5                   4                3   \n",
       "4                   5                   4                3   \n",
       "..                ...                 ...              ...   \n",
       "121                 5                   2                3   \n",
       "122                 5                   2                3   \n",
       "123                 5                   3                3   \n",
       "124                 4                   3                3   \n",
       "125                 5                   3                2   \n",
       "\n",
       "     price_satisfaction  courier_satisfaction  app_satisfaction  \n",
       "0                     4                     2                 4  \n",
       "1                     5                     4                 3  \n",
       "2                     3                     3                 5  \n",
       "3                     3                     3                 5  \n",
       "4                     3                     3                 5  \n",
       "..                  ...                   ...               ...  \n",
       "121                   4                     4                 3  \n",
       "122                   4                     2                 5  \n",
       "123                   4                     4                 5  \n",
       "124                   4                     4                 5  \n",
       "125                   5                     5                 5  \n",
       "\n",
       "[126 rows x 6 columns]"
      ]
     },
     "execution_count": 12,
     "metadata": {},
     "output_type": "execute_result"
    }
   ],
   "source": [
    "# Create our features\n",
    "y = happy_df[\"happiness\"]\n",
    "X = happy_df.drop(\"happiness\", axis=1)\n",
    "X"
   ]
  },
  {
   "cell_type": "code",
   "execution_count": 13,
   "id": "947233b0",
   "metadata": {},
   "outputs": [
    {
     "data": {
      "image/png": "[encoded data removed]",
      "text/plain": [
       "<Figure size 1080x720 with 6 Axes>"
      ]
     },
     "metadata": {
      "needs_background": "light"
     },
     "output_type": "display_data"
    }
   ],
   "source": [
    "#plot feature distribution\n",
    "feature = X.copy().iloc[:, 0:6]\n",
    "\n",
    "plt.figure(figsize=(15, 10))\n",
    "\n",
    "for i in range(len(feature.columns)):\n",
    "    ax = plt.subplot(int(len(feature.columns)/3 ), 3,  i + 1)\n",
    "    _ = sns.histplot(data=X, x=feature.columns[i], ax=ax)\n",
    "    _ = plt.ylabel('Count')\n",
    "    _ = plt.tight_layout()\n",
    "    _= ax.set_xticks([1, 2, 3, 4, 5])\n",
    "\n",
    "_ = plt.suptitle(f'Feature Distribution', y=1.02, size=20)\n",
    "_ = plt.show()"
   ]
  },
  {
   "cell_type": "code",
   "execution_count": 14,
   "id": "53728689",
   "metadata": {},
   "outputs": [
    {
     "data": {
      "image/png": "[encoded data removed]",
      "text/plain": [
       "<Figure size 1440x1440 with 6 Axes>"
      ]
     },
     "metadata": {
      "needs_background": "light"
     },
     "output_type": "display_data"
    }
   ],
   "source": [
    "data = X.copy().iloc[:, 0:6]\n",
    "\n",
    "plt.figure(figsize=(20, 20))\n",
    "\n",
    "for i in range(len(data.columns)):\n",
    "    ax = plt.subplot(int(len(data.columns) / 3), 3, i + 1)\n",
    "    arr = sns.countplot(data=happy_df, x=data.columns[i], ax=ax, hue='happiness')\n",
    "    legend_labels, _= ax.get_legend_handles_labels()\n",
    "    _ = arr.legend(legend_labels, ['Unhappy','Happy'], bbox_to_anchor=(1,1), title='Customer Rating')\n",
    "    _ = plt.xlabel(f'{data.columns[i]} reviews')\n",
    "    _ = plt.ylabel('Count')\n",
    "_ = plt.tight_layout()\n",
    "_ = plt.suptitle(f'Happy and Unhappy Customer Ratings', y=1.02, size=20)\n",
    "_ = plt.show()"
   ]
  },
  {
   "cell_type": "code",
   "execution_count": 15,
   "id": "3256fafb",
   "metadata": {},
   "outputs": [
    {
     "data": {
      "text/plain": [
       "1    69\n",
       "0    57\n",
       "Name: happiness, dtype: int64"
      ]
     },
     "execution_count": 15,
     "metadata": {},
     "output_type": "execute_result"
    }
   ],
   "source": [
    "# Check the balance of our target values\n",
    "y.value_counts()"
   ]
  },
  {
   "cell_type": "code",
   "execution_count": 16,
   "id": "a784fc16",
   "metadata": {},
   "outputs": [],
   "source": [
    "from sklearn.model_selection import train_test_split\n",
    "X_train, X_test, y_train, y_test = train_test_split(X, y, test_size=0.15,random_state=42)"
   ]
  },
  {
   "cell_type": "markdown",
   "id": "60a16885",
   "metadata": {},
   "source": [
    "# Logistic Regression"
   ]
  },
  {
   "cell_type": "code",
   "execution_count": 17,
   "id": "71652a84",
   "metadata": {},
   "outputs": [
    {
     "data": {
      "text/plain": [
       "LogisticRegression(random_state=1)"
      ]
     },
     "execution_count": 17,
     "metadata": {},
     "output_type": "execute_result"
    }
   ],
   "source": [
    "from sklearn.linear_model import LogisticRegression\n",
    "classifier = LogisticRegression(solver='lbfgs', random_state=1)\n",
    "classifier"
   ]
  },
  {
   "cell_type": "code",
   "execution_count": 18,
   "id": "c42dcc24",
   "metadata": {},
   "outputs": [
    {
     "data": {
      "text/html": [
       "<div>\n",
       "<style scoped>\n",
       "    .dataframe tbody tr th:only-of-type {\n",
       "        vertical-align: middle;\n",
       "    }\n",
       "\n",
       "    .dataframe tbody tr th {\n",
       "        vertical-align: top;\n",
       "    }\n",
       "\n",
       "    .dataframe thead th {\n",
       "        text-align: right;\n",
       "    }\n",
       "</style>\n",
       "<table border=\"1\" class=\"dataframe\">\n",
       "  <thead>\n",
       "    <tr style=\"text-align: right;\">\n",
       "      <th></th>\n",
       "      <th>Prediction</th>\n",
       "      <th>Actual</th>\n",
       "    </tr>\n",
       "  </thead>\n",
       "  <tbody>\n",
       "    <tr>\n",
       "      <th>73</th>\n",
       "      <td>1</td>\n",
       "      <td>0</td>\n",
       "    </tr>\n",
       "    <tr>\n",
       "      <th>19</th>\n",
       "      <td>1</td>\n",
       "      <td>0</td>\n",
       "    </tr>\n",
       "    <tr>\n",
       "      <th>116</th>\n",
       "      <td>0</td>\n",
       "      <td>1</td>\n",
       "    </tr>\n",
       "    <tr>\n",
       "      <th>67</th>\n",
       "      <td>1</td>\n",
       "      <td>0</td>\n",
       "    </tr>\n",
       "    <tr>\n",
       "      <th>94</th>\n",
       "      <td>0</td>\n",
       "      <td>0</td>\n",
       "    </tr>\n",
       "    <tr>\n",
       "      <th>77</th>\n",
       "      <td>1</td>\n",
       "      <td>1</td>\n",
       "    </tr>\n",
       "    <tr>\n",
       "      <th>31</th>\n",
       "      <td>1</td>\n",
       "      <td>0</td>\n",
       "    </tr>\n",
       "    <tr>\n",
       "      <th>53</th>\n",
       "      <td>1</td>\n",
       "      <td>1</td>\n",
       "    </tr>\n",
       "    <tr>\n",
       "      <th>117</th>\n",
       "      <td>1</td>\n",
       "      <td>1</td>\n",
       "    </tr>\n",
       "    <tr>\n",
       "      <th>44</th>\n",
       "      <td>0</td>\n",
       "      <td>1</td>\n",
       "    </tr>\n",
       "    <tr>\n",
       "      <th>4</th>\n",
       "      <td>1</td>\n",
       "      <td>0</td>\n",
       "    </tr>\n",
       "    <tr>\n",
       "      <th>104</th>\n",
       "      <td>1</td>\n",
       "      <td>0</td>\n",
       "    </tr>\n",
       "    <tr>\n",
       "      <th>36</th>\n",
       "      <td>1</td>\n",
       "      <td>1</td>\n",
       "    </tr>\n",
       "    <tr>\n",
       "      <th>97</th>\n",
       "      <td>1</td>\n",
       "      <td>1</td>\n",
       "    </tr>\n",
       "    <tr>\n",
       "      <th>78</th>\n",
       "      <td>1</td>\n",
       "      <td>0</td>\n",
       "    </tr>\n",
       "    <tr>\n",
       "      <th>18</th>\n",
       "      <td>1</td>\n",
       "      <td>0</td>\n",
       "    </tr>\n",
       "    <tr>\n",
       "      <th>91</th>\n",
       "      <td>1</td>\n",
       "      <td>1</td>\n",
       "    </tr>\n",
       "    <tr>\n",
       "      <th>10</th>\n",
       "      <td>0</td>\n",
       "      <td>0</td>\n",
       "    </tr>\n",
       "    <tr>\n",
       "      <th>55</th>\n",
       "      <td>0</td>\n",
       "      <td>1</td>\n",
       "    </tr>\n",
       "  </tbody>\n",
       "</table>\n",
       "</div>"
      ],
      "text/plain": [
       "     Prediction  Actual\n",
       "73            1       0\n",
       "19            1       0\n",
       "116           0       1\n",
       "67            1       0\n",
       "94            0       0\n",
       "77            1       1\n",
       "31            1       0\n",
       "53            1       1\n",
       "117           1       1\n",
       "44            0       1\n",
       "4             1       0\n",
       "104           1       0\n",
       "36            1       1\n",
       "97            1       1\n",
       "78            1       0\n",
       "18            1       0\n",
       "91            1       1\n",
       "10            0       0\n",
       "55            0       1"
      ]
     },
     "execution_count": 18,
     "metadata": {},
     "output_type": "execute_result"
    }
   ],
   "source": [
    "classifier.fit(X_train, y_train)\n",
    "prediction = classifier.predict(X_test)\n",
    "pd.DataFrame({\"Prediction\": prediction, \"Actual\": y_test})"
   ]
  },
  {
   "cell_type": "code",
   "execution_count": 19,
   "id": "349dcf70",
   "metadata": {},
   "outputs": [
    {
     "data": {
      "text/plain": [
       "0.42105263157894735"
      ]
     },
     "execution_count": 19,
     "metadata": {},
     "output_type": "execute_result"
    }
   ],
   "source": [
    "from sklearn.metrics import accuracy_score\n",
    "accuracy_score(y_test, prediction)"
   ]
  },
  {
   "cell_type": "code",
   "execution_count": 20,
   "id": "159e1504",
   "metadata": {},
   "outputs": [
    {
     "data": {
      "text/plain": [
       "array([[2, 8],\n",
       "       [3, 6]], dtype=int64)"
      ]
     },
     "execution_count": 20,
     "metadata": {},
     "output_type": "execute_result"
    }
   ],
   "source": [
    "from sklearn.metrics import confusion_matrix\n",
    "# Calculating the confusion matrix.\n",
    "\n",
    "confusion_matrix(y_test, prediction)"
   ]
  },
  {
   "cell_type": "code",
   "execution_count": 21,
   "id": "833086fc",
   "metadata": {},
   "outputs": [
    {
     "name": "stdout",
     "output_type": "stream",
     "text": [
      "              precision    recall  f1-score   support\n",
      "\n",
      "           0       0.40      0.20      0.27        10\n",
      "           1       0.43      0.67      0.52         9\n",
      "\n",
      "    accuracy                           0.42        19\n",
      "   macro avg       0.41      0.43      0.39        19\n",
      "weighted avg       0.41      0.42      0.39        19\n",
      "\n"
     ]
    }
   ],
   "source": [
    "from sklearn.metrics import classification_report\n",
    "# Print the imbalanced classification report\n",
    "report1 = classification_report(y_test, prediction)\n",
    "print(report1)"
   ]
  },
  {
   "cell_type": "markdown",
   "id": "2bc8b077",
   "metadata": {},
   "source": [
    "# Support vector machine"
   ]
  },
  {
   "cell_type": "code",
   "execution_count": 22,
   "id": "462e1c20",
   "metadata": {},
   "outputs": [],
   "source": [
    "from sklearn.svm import SVC\n",
    "model = SVC(kernel='linear')"
   ]
  },
  {
   "cell_type": "code",
   "execution_count": 23,
   "id": "c4fbf00b",
   "metadata": {},
   "outputs": [
    {
     "data": {
      "text/plain": [
       "SVC(kernel='linear')"
      ]
     },
     "execution_count": 23,
     "metadata": {},
     "output_type": "execute_result"
    }
   ],
   "source": [
    "model.fit(X_train, y_train)"
   ]
  },
  {
   "cell_type": "code",
   "execution_count": 24,
   "id": "294f4576",
   "metadata": {},
   "outputs": [
    {
     "data": {
      "text/html": [
       "<div>\n",
       "<style scoped>\n",
       "    .dataframe tbody tr th:only-of-type {\n",
       "        vertical-align: middle;\n",
       "    }\n",
       "\n",
       "    .dataframe tbody tr th {\n",
       "        vertical-align: top;\n",
       "    }\n",
       "\n",
       "    .dataframe thead th {\n",
       "        text-align: right;\n",
       "    }\n",
       "</style>\n",
       "<table border=\"1\" class=\"dataframe\">\n",
       "  <thead>\n",
       "    <tr style=\"text-align: right;\">\n",
       "      <th></th>\n",
       "      <th>Prediction</th>\n",
       "      <th>Actual</th>\n",
       "    </tr>\n",
       "  </thead>\n",
       "  <tbody>\n",
       "    <tr>\n",
       "      <th>0</th>\n",
       "      <td>1</td>\n",
       "      <td>0</td>\n",
       "    </tr>\n",
       "    <tr>\n",
       "      <th>1</th>\n",
       "      <td>0</td>\n",
       "      <td>0</td>\n",
       "    </tr>\n",
       "    <tr>\n",
       "      <th>2</th>\n",
       "      <td>0</td>\n",
       "      <td>1</td>\n",
       "    </tr>\n",
       "    <tr>\n",
       "      <th>3</th>\n",
       "      <td>1</td>\n",
       "      <td>0</td>\n",
       "    </tr>\n",
       "    <tr>\n",
       "      <th>4</th>\n",
       "      <td>0</td>\n",
       "      <td>0</td>\n",
       "    </tr>\n",
       "  </tbody>\n",
       "</table>\n",
       "</div>"
      ],
      "text/plain": [
       "   Prediction  Actual\n",
       "0           1       0\n",
       "1           0       0\n",
       "2           0       1\n",
       "3           1       0\n",
       "4           0       0"
      ]
     },
     "execution_count": 24,
     "metadata": {},
     "output_type": "execute_result"
    }
   ],
   "source": [
    "y_pred = model.predict(X_test)\n",
    "results = pd.DataFrame({\n",
    "   \"Prediction\": y_pred,\n",
    "   \"Actual\": y_test\n",
    "}).reset_index(drop=True)\n",
    "results.head()"
   ]
  },
  {
   "cell_type": "code",
   "execution_count": 25,
   "id": "ad809956",
   "metadata": {},
   "outputs": [
    {
     "data": {
      "text/plain": [
       "0.5263157894736842"
      ]
     },
     "execution_count": 25,
     "metadata": {},
     "output_type": "execute_result"
    }
   ],
   "source": [
    "\n",
    "accuracy_score(y_test, y_pred)"
   ]
  },
  {
   "cell_type": "code",
   "execution_count": 26,
   "id": "25764528",
   "metadata": {},
   "outputs": [
    {
     "data": {
      "text/plain": [
       "array([[3, 7],\n",
       "       [2, 7]], dtype=int64)"
      ]
     },
     "execution_count": 26,
     "metadata": {},
     "output_type": "execute_result"
    }
   ],
   "source": [
    "confusion_matrix(y_test, y_pred)"
   ]
  },
  {
   "cell_type": "code",
   "execution_count": 27,
   "id": "03a94908",
   "metadata": {},
   "outputs": [
    {
     "name": "stdout",
     "output_type": "stream",
     "text": [
      "              precision    recall  f1-score   support\n",
      "\n",
      "           0       0.60      0.30      0.40        10\n",
      "           1       0.50      0.78      0.61         9\n",
      "\n",
      "    accuracy                           0.53        19\n",
      "   macro avg       0.55      0.54      0.50        19\n",
      "weighted avg       0.55      0.53      0.50        19\n",
      "\n"
     ]
    }
   ],
   "source": [
    "print(classification_report(y_test, y_pred))"
   ]
  },
  {
   "cell_type": "markdown",
   "id": "87782808",
   "metadata": {},
   "source": [
    "# Decision Tree"
   ]
  },
  {
   "cell_type": "code",
   "execution_count": 28,
   "id": "38ad1744",
   "metadata": {},
   "outputs": [],
   "source": [
    "from sklearn import tree\n",
    "# Creating the decision tree classifier instance.\n",
    "model = tree.DecisionTreeClassifier()\n",
    "# Fitting the model.\n",
    "model = model.fit(X_train, y_train)"
   ]
  },
  {
   "cell_type": "code",
   "execution_count": 29,
   "id": "af85cd8d",
   "metadata": {},
   "outputs": [],
   "source": [
    "# Making predictions using the testing data.\n",
    "pred = model.predict(X_test)"
   ]
  },
  {
   "cell_type": "code",
   "execution_count": 30,
   "id": "c2b3ac7b",
   "metadata": {},
   "outputs": [
    {
     "data": {
      "text/html": [
       "<div>\n",
       "<style scoped>\n",
       "    .dataframe tbody tr th:only-of-type {\n",
       "        vertical-align: middle;\n",
       "    }\n",
       "\n",
       "    .dataframe tbody tr th {\n",
       "        vertical-align: top;\n",
       "    }\n",
       "\n",
       "    .dataframe thead th {\n",
       "        text-align: right;\n",
       "    }\n",
       "</style>\n",
       "<table border=\"1\" class=\"dataframe\">\n",
       "  <thead>\n",
       "    <tr style=\"text-align: right;\">\n",
       "      <th></th>\n",
       "      <th>Predicted 0</th>\n",
       "      <th>Predicted 1</th>\n",
       "    </tr>\n",
       "  </thead>\n",
       "  <tbody>\n",
       "    <tr>\n",
       "      <th>Actual 0</th>\n",
       "      <td>4</td>\n",
       "      <td>6</td>\n",
       "    </tr>\n",
       "    <tr>\n",
       "      <th>Actual 1</th>\n",
       "      <td>2</td>\n",
       "      <td>7</td>\n",
       "    </tr>\n",
       "  </tbody>\n",
       "</table>\n",
       "</div>"
      ],
      "text/plain": [
       "          Predicted 0  Predicted 1\n",
       "Actual 0            4            6\n",
       "Actual 1            2            7"
      ]
     },
     "execution_count": 30,
     "metadata": {},
     "output_type": "execute_result"
    }
   ],
   "source": [
    "# Calculating the confusion matrix\n",
    "cm = confusion_matrix(y_test, pred)\n",
    "\n",
    "# Create a DataFrame from the confusion matrix.\n",
    "cm_df = pd.DataFrame(\n",
    "    cm, index=[\"Actual 0\", \"Actual 1\"], columns=[\"Predicted 0\", \"Predicted 1\"])\n",
    "\n",
    "cm_df\n"
   ]
  },
  {
   "cell_type": "code",
   "execution_count": 31,
   "id": "82690880",
   "metadata": {},
   "outputs": [
    {
     "data": {
      "text/plain": [
       "0.5789473684210527"
      ]
     },
     "execution_count": 31,
     "metadata": {},
     "output_type": "execute_result"
    }
   ],
   "source": [
    "# Calculating the accuracy score.\n",
    "acc_score = accuracy_score(y_test, pred)\n",
    "acc_score"
   ]
  },
  {
   "cell_type": "code",
   "execution_count": 32,
   "id": "30578c87",
   "metadata": {},
   "outputs": [
    {
     "name": "stdout",
     "output_type": "stream",
     "text": [
      "Confusion Matrix\n"
     ]
    },
    {
     "data": {
      "text/html": [
       "<div>\n",
       "<style scoped>\n",
       "    .dataframe tbody tr th:only-of-type {\n",
       "        vertical-align: middle;\n",
       "    }\n",
       "\n",
       "    .dataframe tbody tr th {\n",
       "        vertical-align: top;\n",
       "    }\n",
       "\n",
       "    .dataframe thead th {\n",
       "        text-align: right;\n",
       "    }\n",
       "</style>\n",
       "<table border=\"1\" class=\"dataframe\">\n",
       "  <thead>\n",
       "    <tr style=\"text-align: right;\">\n",
       "      <th></th>\n",
       "      <th>Predicted 0</th>\n",
       "      <th>Predicted 1</th>\n",
       "    </tr>\n",
       "  </thead>\n",
       "  <tbody>\n",
       "    <tr>\n",
       "      <th>Actual 0</th>\n",
       "      <td>4</td>\n",
       "      <td>6</td>\n",
       "    </tr>\n",
       "    <tr>\n",
       "      <th>Actual 1</th>\n",
       "      <td>2</td>\n",
       "      <td>7</td>\n",
       "    </tr>\n",
       "  </tbody>\n",
       "</table>\n",
       "</div>"
      ],
      "text/plain": [
       "          Predicted 0  Predicted 1\n",
       "Actual 0            4            6\n",
       "Actual 1            2            7"
      ]
     },
     "metadata": {},
     "output_type": "display_data"
    },
    {
     "name": "stdout",
     "output_type": "stream",
     "text": [
      "Accuracy Score : 0.5789473684210527\n",
      "Classification Report\n",
      "              precision    recall  f1-score   support\n",
      "\n",
      "           0       0.67      0.40      0.50        10\n",
      "           1       0.54      0.78      0.64         9\n",
      "\n",
      "    accuracy                           0.58        19\n",
      "   macro avg       0.60      0.59      0.57        19\n",
      "weighted avg       0.61      0.58      0.56        19\n",
      "\n"
     ]
    }
   ],
   "source": [
    "# Displaying results\n",
    "print(\"Confusion Matrix\")\n",
    "display(cm_df)\n",
    "print(f\"Accuracy Score : {acc_score}\")\n",
    "print(\"Classification Report\")\n",
    "print(classification_report(y_test, pred))"
   ]
  },
  {
   "cell_type": "markdown",
   "id": "43f79ef7",
   "metadata": {},
   "source": [
    "# Random Forest"
   ]
  },
  {
   "cell_type": "code",
   "execution_count": 33,
   "id": "f1cb0390",
   "metadata": {},
   "outputs": [
    {
     "data": {
      "text/plain": [
       "BalancedRandomForestClassifier(random_state=1)"
      ]
     },
     "execution_count": 33,
     "metadata": {},
     "output_type": "execute_result"
    }
   ],
   "source": [
    "# Resample the training data with the BalancedRandomForestClassifier\n",
    "from imblearn.ensemble import BalancedRandomForestClassifier\n",
    "rf_model = BalancedRandomForestClassifier(n_estimators=100,random_state=1) \n",
    "rf_model"
   ]
  },
  {
   "cell_type": "code",
   "execution_count": 34,
   "id": "ca45a073",
   "metadata": {},
   "outputs": [
    {
     "data": {
      "text/plain": [
       "0.7368421052631579"
      ]
     },
     "execution_count": 34,
     "metadata": {},
     "output_type": "execute_result"
    }
   ],
   "source": [
    "\n",
    "# Calculated the balanced accuracy score\n",
    "# Fitting the model\n",
    "rf_model = rf_model.fit(X_train, y_train)\n",
    "# Making predictions using the testing data.\n",
    "predictions = rf_model.predict(X_test)\n",
    "\n",
    "acc_score = accuracy_score(y_test, predictions)\n",
    "acc_score"
   ]
  },
  {
   "cell_type": "code",
   "execution_count": 35,
   "id": "43c34034",
   "metadata": {},
   "outputs": [
    {
     "data": {
      "text/plain": [
       "array([[7, 3],\n",
       "       [2, 7]], dtype=int64)"
      ]
     },
     "execution_count": 35,
     "metadata": {},
     "output_type": "execute_result"
    }
   ],
   "source": [
    "\n",
    "# Calculating the confusion matrix.\n",
    "\n",
    "confusion_matrix(y_test, predictions)\n"
   ]
  },
  {
   "cell_type": "code",
   "execution_count": 36,
   "id": "6948f96c",
   "metadata": {},
   "outputs": [
    {
     "name": "stdout",
     "output_type": "stream",
     "text": [
      "              precision    recall  f1-score   support\n",
      "\n",
      "           0       0.78      0.70      0.74        10\n",
      "           1       0.70      0.78      0.74         9\n",
      "\n",
      "    accuracy                           0.74        19\n",
      "   macro avg       0.74      0.74      0.74        19\n",
      "weighted avg       0.74      0.74      0.74        19\n",
      "\n"
     ]
    }
   ],
   "source": [
    "\n",
    "# Print the imbalanced classification report\n",
    "report = classification_report(y_test, predictions)\n",
    "print(report)"
   ]
  },
  {
   "cell_type": "code",
   "execution_count": 37,
   "id": "213d6352",
   "metadata": {},
   "outputs": [
    {
     "data": {
      "text/plain": [
       "[(0.19440550638860285, 'order_satisfaction'),\n",
       " (0.17946793538649922, 'order_completed'),\n",
       " (0.17031896409449426, 'delivered_OnTime'),\n",
       " (0.1702226553016792, 'courier_satisfaction'),\n",
       " (0.1505343344744745, 'price_satisfaction'),\n",
       " (0.13505060435424998, 'app_satisfaction')]"
      ]
     },
     "execution_count": 37,
     "metadata": {},
     "output_type": "execute_result"
    }
   ],
   "source": [
    "# List the features sorted in descending order by feature importance\n",
    "# Calculate feature importance in the Random Forest model.\n",
    "importances = rf_model.feature_importances_\n",
    "# We can sort the features by their importance.\n",
    "sorted(zip(rf_model.feature_importances_, X.columns), reverse=True)"
   ]
  },
  {
   "cell_type": "markdown",
   "id": "3fce83ed",
   "metadata": {},
   "source": [
    "# K-Nearest Neighbor"
   ]
  },
  {
   "cell_type": "code",
   "execution_count": 38,
   "id": "aaf76bc2",
   "metadata": {},
   "outputs": [],
   "source": [
    "from sklearn.neighbors import KNeighborsClassifier"
   ]
  },
  {
   "cell_type": "code",
   "execution_count": 39,
   "id": "bbfd17f8",
   "metadata": {},
   "outputs": [
    {
     "data": {
      "text/plain": [
       "KNeighborsClassifier(n_neighbors=6)"
      ]
     },
     "execution_count": 39,
     "metadata": {},
     "output_type": "execute_result"
    }
   ],
   "source": [
    "knn=KNeighborsClassifier(n_neighbors=6)\n",
    "knn"
   ]
  },
  {
   "cell_type": "code",
   "execution_count": 40,
   "id": "13ef94d5",
   "metadata": {},
   "outputs": [],
   "source": [
    "knn.fit(X_train, y_train)\n",
    "predictions = knn.predict(X_test)"
   ]
  },
  {
   "cell_type": "code",
   "execution_count": 41,
   "id": "9c9a0320",
   "metadata": {},
   "outputs": [
    {
     "name": "stdout",
     "output_type": "stream",
     "text": [
      "0.631578947368421\n"
     ]
    }
   ],
   "source": [
    "print(accuracy_score(y_test, predictions))"
   ]
  },
  {
   "cell_type": "markdown",
   "id": "877cae12",
   "metadata": {},
   "source": [
    "# Easy Ensemble AdaBoost Classifier"
   ]
  },
  {
   "cell_type": "code",
   "execution_count": 42,
   "id": "bc9e4ea6",
   "metadata": {},
   "outputs": [],
   "source": [
    "# Train the EasyEnsembleClassifier\n",
    "from imblearn.ensemble import EasyEnsembleClassifier\n",
    "\n",
    "eec = EasyEnsembleClassifier(n_estimators=100, random_state=1)\n",
    "eec.fit(X_train, y_train)\n",
    "\n",
    "predictions = eec.predict(X_test)"
   ]
  },
  {
   "cell_type": "code",
   "execution_count": 43,
   "id": "0029ba5c",
   "metadata": {},
   "outputs": [
    {
     "data": {
      "text/plain": [
       "0.6833333333333333"
      ]
     },
     "execution_count": 43,
     "metadata": {},
     "output_type": "execute_result"
    }
   ],
   "source": [
    "# Calculated the balanced accuracy score\n",
    "from sklearn.metrics import balanced_accuracy_score\n",
    "\n",
    "balanced_accuracy_score(y_test, predictions)"
   ]
  },
  {
   "cell_type": "code",
   "execution_count": 44,
   "id": "042cec54",
   "metadata": {},
   "outputs": [
    {
     "data": {
      "text/plain": [
       "array([[7, 3],\n",
       "       [3, 6]], dtype=int64)"
      ]
     },
     "execution_count": 44,
     "metadata": {},
     "output_type": "execute_result"
    }
   ],
   "source": [
    "# Display the confusion matrix\n",
    "y_pred = eec.predict(X_test)\n",
    "confusion_matrix(y_test, predictions)"
   ]
  },
  {
   "cell_type": "code",
   "execution_count": 45,
   "id": "8d4d0302",
   "metadata": {},
   "outputs": [
    {
     "name": "stdout",
     "output_type": "stream",
     "text": [
      "                   pre       rec       spe        f1       geo       iba       sup\n",
      "\n",
      "          0       0.70      0.70      0.67      0.70      0.68      0.47        10\n",
      "          1       0.67      0.67      0.70      0.67      0.68      0.47         9\n",
      "\n",
      "avg / total       0.68      0.68      0.68      0.68      0.68      0.47        19\n",
      "\n"
     ]
    }
   ],
   "source": [
    "# Print the imbalanced classification report\n",
    "from imblearn.metrics import classification_report_imbalanced\n",
    "print(classification_report_imbalanced(y_test, y_pred))"
   ]
  },
  {
   "cell_type": "markdown",
   "id": "d663f489",
   "metadata": {},
   "source": [
    "# XgBoost"
   ]
  },
  {
   "cell_type": "code",
   "execution_count": 46,
   "id": "ec7ca18e",
   "metadata": {},
   "outputs": [],
   "source": [
    "   import xgboost as xgb"
   ]
  },
  {
   "cell_type": "code",
   "execution_count": 47,
   "id": "586bc41a",
   "metadata": {},
   "outputs": [
    {
     "name": "stdout",
     "output_type": "stream",
     "text": [
      "[09:36:57] WARNING: D:\\bld\\xgboost-split_1645118015404\\work\\src\\learner.cc:1115: Starting in XGBoost 1.3.0, the default evaluation metric used with the objective 'binary:logistic' was changed from 'error' to 'logloss'. Explicitly set eval_metric if you'd like to restore the old behavior.\n",
      "0.631578947368421\n"
     ]
    },
    {
     "name": "stderr",
     "output_type": "stream",
     "text": [
      "C:\\Users\\ayesh\\anaconda3\\envs\\PythonData\\lib\\site-packages\\xgboost\\sklearn.py:1224: UserWarning: The use of label encoder in XGBClassifier is deprecated and will be removed in a future release. To remove this warning, do the following: 1) Pass option use_label_encoder=False when constructing XGBClassifier object; and 2) Encode your labels (y) as integers starting with 0, i.e. 0, 1, 2, ..., [num_class - 1].\n",
      "  warnings.warn(label_encoder_deprecation_msg, UserWarning)\n"
     ]
    }
   ],
   "source": [
    "xg = xgb.XGBClassifier()\n",
    "xg.fit(X_train, y_train)\n",
    "predi= knn.predict(X_test)\n",
    "print(accuracy_score(y_test, predi))"
   ]
  },
  {
   "cell_type": "markdown",
   "id": "0f373b99",
   "metadata": {},
   "source": [
    "# Model Review"
   ]
  },
  {
   "cell_type": "code",
   "execution_count": 48,
   "id": "3685a1ea",
   "metadata": {},
   "outputs": [],
   "source": [
    "from pycaret.classification import *"
   ]
  },
  {
   "cell_type": "code",
   "execution_count": 49,
   "id": "b3d0f3b0",
   "metadata": {},
   "outputs": [
    {
     "data": {
      "text/html": [
       "<style  type=\"text/css\" >\n",
       "    #T_31148_ th {\n",
       "          text-align: left;\n",
       "    }#T_31148_row0_col0,#T_31148_row0_col2,#T_31148_row0_col3,#T_31148_row0_col4,#T_31148_row1_col0,#T_31148_row1_col1,#T_31148_row1_col2,#T_31148_row1_col3,#T_31148_row1_col4,#T_31148_row1_col5,#T_31148_row1_col6,#T_31148_row1_col7,#T_31148_row2_col0,#T_31148_row2_col1,#T_31148_row2_col4,#T_31148_row2_col5,#T_31148_row2_col6,#T_31148_row2_col7,#T_31148_row3_col0,#T_31148_row3_col1,#T_31148_row3_col2,#T_31148_row3_col3,#T_31148_row3_col5,#T_31148_row3_col6,#T_31148_row3_col7,#T_31148_row4_col0,#T_31148_row4_col1,#T_31148_row4_col2,#T_31148_row4_col3,#T_31148_row4_col4,#T_31148_row4_col5,#T_31148_row4_col6,#T_31148_row4_col7,#T_31148_row5_col0,#T_31148_row5_col1,#T_31148_row5_col2,#T_31148_row5_col3,#T_31148_row5_col4,#T_31148_row5_col5,#T_31148_row5_col6,#T_31148_row5_col7,#T_31148_row6_col0,#T_31148_row6_col1,#T_31148_row6_col2,#T_31148_row6_col3,#T_31148_row6_col4,#T_31148_row6_col5,#T_31148_row6_col6,#T_31148_row6_col7,#T_31148_row7_col0,#T_31148_row7_col1,#T_31148_row7_col2,#T_31148_row7_col3,#T_31148_row7_col4,#T_31148_row7_col5,#T_31148_row7_col6,#T_31148_row7_col7,#T_31148_row8_col0,#T_31148_row8_col1,#T_31148_row8_col2,#T_31148_row8_col3,#T_31148_row8_col4,#T_31148_row8_col5,#T_31148_row8_col6,#T_31148_row8_col7,#T_31148_row9_col0,#T_31148_row9_col1,#T_31148_row9_col2,#T_31148_row9_col3,#T_31148_row9_col4,#T_31148_row9_col5,#T_31148_row9_col6,#T_31148_row9_col7,#T_31148_row10_col0,#T_31148_row10_col1,#T_31148_row10_col2,#T_31148_row10_col3,#T_31148_row10_col4,#T_31148_row10_col5,#T_31148_row10_col6,#T_31148_row10_col7,#T_31148_row11_col0,#T_31148_row11_col1,#T_31148_row11_col2,#T_31148_row11_col3,#T_31148_row11_col4,#T_31148_row11_col5,#T_31148_row11_col6,#T_31148_row11_col7,#T_31148_row12_col0,#T_31148_row12_col1,#T_31148_row12_col2,#T_31148_row12_col3,#T_31148_row12_col4,#T_31148_row12_col5,#T_31148_row12_col6,#T_31148_row12_col7,#T_31148_row13_col0,#T_31148_row13_col1,#T_31148_row13_col2,#T_31148_row13_col3,#T_31148_row13_col4,#T_31148_row13_col5,#T_31148_row13_col6,#T_31148_row13_col7,#T_31148_row14_col0,#T_31148_row14_col1,#T_31148_row14_col2,#T_31148_row14_col3,#T_31148_row14_col4,#T_31148_row14_col5,#T_31148_row14_col6,#T_31148_row14_col7{\n",
       "            text-align:  left;\n",
       "            text-align:  left;\n",
       "        }#T_31148_row0_col1,#T_31148_row0_col5,#T_31148_row0_col6,#T_31148_row0_col7,#T_31148_row2_col2,#T_31148_row2_col3,#T_31148_row3_col4{\n",
       "            text-align:  left;\n",
       "            text-align:  left;\n",
       "            background-color:  yellow;\n",
       "        }#T_31148_row0_col8,#T_31148_row1_col8,#T_31148_row2_col8,#T_31148_row3_col8,#T_31148_row4_col8,#T_31148_row5_col8,#T_31148_row6_col8,#T_31148_row7_col8,#T_31148_row8_col8,#T_31148_row10_col8,#T_31148_row11_col8,#T_31148_row12_col8,#T_31148_row13_col8,#T_31148_row14_col8{\n",
       "            text-align:  left;\n",
       "            text-align:  left;\n",
       "            background-color:  lightgrey;\n",
       "        }#T_31148_row9_col8{\n",
       "            text-align:  left;\n",
       "            text-align:  left;\n",
       "            background-color:  yellow;\n",
       "            background-color:  lightgrey;\n",
       "        }</style><table id=\"T_31148_\" ><thead>    <tr>        <th class=\"blank level0\" ></th>        <th class=\"col_heading level0 col0\" >Model</th>        <th class=\"col_heading level0 col1\" >Accuracy</th>        <th class=\"col_heading level0 col2\" >AUC</th>        <th class=\"col_heading level0 col3\" >Recall</th>        <th class=\"col_heading level0 col4\" >Prec.</th>        <th class=\"col_heading level0 col5\" >F1</th>        <th class=\"col_heading level0 col6\" >Kappa</th>        <th class=\"col_heading level0 col7\" >MCC</th>        <th class=\"col_heading level0 col8\" >TT (Sec)</th>    </tr></thead><tbody>\n",
       "                <tr>\n",
       "                        <th id=\"T_31148_level0_row0\" class=\"row_heading level0 row0\" >xgboost</th>\n",
       "                        <td id=\"T_31148_row0_col0\" class=\"data row0 col0\" >Extreme Gradient Boosting</td>\n",
       "                        <td id=\"T_31148_row0_col1\" class=\"data row0 col1\" >0.6125</td>\n",
       "                        <td id=\"T_31148_row0_col2\" class=\"data row0 col2\" >0.6675</td>\n",
       "                        <td id=\"T_31148_row0_col3\" class=\"data row0 col3\" >0.7200</td>\n",
       "                        <td id=\"T_31148_row0_col4\" class=\"data row0 col4\" >0.6705</td>\n",
       "                        <td id=\"T_31148_row0_col5\" class=\"data row0 col5\" >0.6819</td>\n",
       "                        <td id=\"T_31148_row0_col6\" class=\"data row0 col6\" >0.1916</td>\n",
       "                        <td id=\"T_31148_row0_col7\" class=\"data row0 col7\" >0.1768</td>\n",
       "                        <td id=\"T_31148_row0_col8\" class=\"data row0 col8\" >0.0790</td>\n",
       "            </tr>\n",
       "            <tr>\n",
       "                        <th id=\"T_31148_level0_row1\" class=\"row_heading level0 row1\" >gbc</th>\n",
       "                        <td id=\"T_31148_row1_col0\" class=\"data row1 col0\" >Gradient Boosting Classifier</td>\n",
       "                        <td id=\"T_31148_row1_col1\" class=\"data row1 col1\" >0.6028</td>\n",
       "                        <td id=\"T_31148_row1_col2\" class=\"data row1 col2\" >0.6242</td>\n",
       "                        <td id=\"T_31148_row1_col3\" class=\"data row1 col3\" >0.7200</td>\n",
       "                        <td id=\"T_31148_row1_col4\" class=\"data row1 col4\" >0.6671</td>\n",
       "                        <td id=\"T_31148_row1_col5\" class=\"data row1 col5\" >0.6747</td>\n",
       "                        <td id=\"T_31148_row1_col6\" class=\"data row1 col6\" >0.1729</td>\n",
       "                        <td id=\"T_31148_row1_col7\" class=\"data row1 col7\" >0.1617</td>\n",
       "                        <td id=\"T_31148_row1_col8\" class=\"data row1 col8\" >0.0320</td>\n",
       "            </tr>\n",
       "            <tr>\n",
       "                        <th id=\"T_31148_level0_row2\" class=\"row_heading level0 row2\" >catboost</th>\n",
       "                        <td id=\"T_31148_row2_col0\" class=\"data row2 col0\" >CatBoost Classifier</td>\n",
       "                        <td id=\"T_31148_row2_col1\" class=\"data row2 col1\" >0.6014</td>\n",
       "                        <td id=\"T_31148_row2_col2\" class=\"data row2 col2\" >0.6708</td>\n",
       "                        <td id=\"T_31148_row2_col3\" class=\"data row2 col3\" >0.7600</td>\n",
       "                        <td id=\"T_31148_row2_col4\" class=\"data row2 col4\" >0.6537</td>\n",
       "                        <td id=\"T_31148_row2_col5\" class=\"data row2 col5\" >0.6810</td>\n",
       "                        <td id=\"T_31148_row2_col6\" class=\"data row2 col6\" >0.1582</td>\n",
       "                        <td id=\"T_31148_row2_col7\" class=\"data row2 col7\" >0.1546</td>\n",
       "                        <td id=\"T_31148_row2_col8\" class=\"data row2 col8\" >0.4310</td>\n",
       "            </tr>\n",
       "            <tr>\n",
       "                        <th id=\"T_31148_level0_row3\" class=\"row_heading level0 row3\" >dt</th>\n",
       "                        <td id=\"T_31148_row3_col0\" class=\"data row3 col0\" >Decision Tree Classifier</td>\n",
       "                        <td id=\"T_31148_row3_col1\" class=\"data row3 col1\" >0.5819</td>\n",
       "                        <td id=\"T_31148_row3_col2\" class=\"data row3 col2\" >0.5708</td>\n",
       "                        <td id=\"T_31148_row3_col3\" class=\"data row3 col3\" >0.6200</td>\n",
       "                        <td id=\"T_31148_row3_col4\" class=\"data row3 col4\" >0.6745</td>\n",
       "                        <td id=\"T_31148_row3_col5\" class=\"data row3 col5\" >0.6329</td>\n",
       "                        <td id=\"T_31148_row3_col6\" class=\"data row3 col6\" >0.1441</td>\n",
       "                        <td id=\"T_31148_row3_col7\" class=\"data row3 col7\" >0.1512</td>\n",
       "                        <td id=\"T_31148_row3_col8\" class=\"data row3 col8\" >0.0100</td>\n",
       "            </tr>\n",
       "            <tr>\n",
       "                        <th id=\"T_31148_level0_row4\" class=\"row_heading level0 row4\" >rf</th>\n",
       "                        <td id=\"T_31148_row4_col0\" class=\"data row4 col0\" >Random Forest Classifier</td>\n",
       "                        <td id=\"T_31148_row4_col1\" class=\"data row4 col1\" >0.5556</td>\n",
       "                        <td id=\"T_31148_row4_col2\" class=\"data row4 col2\" >0.6475</td>\n",
       "                        <td id=\"T_31148_row4_col3\" class=\"data row4 col3\" >0.7400</td>\n",
       "                        <td id=\"T_31148_row4_col4\" class=\"data row4 col4\" >0.6201</td>\n",
       "                        <td id=\"T_31148_row4_col5\" class=\"data row4 col5\" >0.6526</td>\n",
       "                        <td id=\"T_31148_row4_col6\" class=\"data row4 col6\" >0.0481</td>\n",
       "                        <td id=\"T_31148_row4_col7\" class=\"data row4 col7\" >0.0329</td>\n",
       "                        <td id=\"T_31148_row4_col8\" class=\"data row4 col8\" >0.1960</td>\n",
       "            </tr>\n",
       "            <tr>\n",
       "                        <th id=\"T_31148_level0_row5\" class=\"row_heading level0 row5\" >et</th>\n",
       "                        <td id=\"T_31148_row5_col0\" class=\"data row5 col0\" >Extra Trees Classifier</td>\n",
       "                        <td id=\"T_31148_row5_col1\" class=\"data row5 col1\" >0.5458</td>\n",
       "                        <td id=\"T_31148_row5_col2\" class=\"data row5 col2\" >0.6125</td>\n",
       "                        <td id=\"T_31148_row5_col3\" class=\"data row5 col3\" >0.6600</td>\n",
       "                        <td id=\"T_31148_row5_col4\" class=\"data row5 col4\" >0.6167</td>\n",
       "                        <td id=\"T_31148_row5_col5\" class=\"data row5 col5\" >0.6214</td>\n",
       "                        <td id=\"T_31148_row5_col6\" class=\"data row5 col6\" >0.0554</td>\n",
       "                        <td id=\"T_31148_row5_col7\" class=\"data row5 col7\" >0.0496</td>\n",
       "                        <td id=\"T_31148_row5_col8\" class=\"data row5 col8\" >0.1930</td>\n",
       "            </tr>\n",
       "            <tr>\n",
       "                        <th id=\"T_31148_level0_row6\" class=\"row_heading level0 row6\" >lightgbm</th>\n",
       "                        <td id=\"T_31148_row6_col0\" class=\"data row6 col0\" >Light Gradient Boosting Machine</td>\n",
       "                        <td id=\"T_31148_row6_col1\" class=\"data row6 col1\" >0.5444</td>\n",
       "                        <td id=\"T_31148_row6_col2\" class=\"data row6 col2\" >0.5667</td>\n",
       "                        <td id=\"T_31148_row6_col3\" class=\"data row6 col3\" >0.7000</td>\n",
       "                        <td id=\"T_31148_row6_col4\" class=\"data row6 col4\" >0.5886</td>\n",
       "                        <td id=\"T_31148_row6_col5\" class=\"data row6 col5\" >0.6275</td>\n",
       "                        <td id=\"T_31148_row6_col6\" class=\"data row6 col6\" >0.0436</td>\n",
       "                        <td id=\"T_31148_row6_col7\" class=\"data row6 col7\" >0.0332</td>\n",
       "                        <td id=\"T_31148_row6_col8\" class=\"data row6 col8\" >0.4150</td>\n",
       "            </tr>\n",
       "            <tr>\n",
       "                        <th id=\"T_31148_level0_row7\" class=\"row_heading level0 row7\" >knn</th>\n",
       "                        <td id=\"T_31148_row7_col0\" class=\"data row7 col0\" >K Neighbors Classifier</td>\n",
       "                        <td id=\"T_31148_row7_col1\" class=\"data row7 col1\" >0.5431</td>\n",
       "                        <td id=\"T_31148_row7_col2\" class=\"data row7 col2\" >0.5925</td>\n",
       "                        <td id=\"T_31148_row7_col3\" class=\"data row7 col3\" >0.7200</td>\n",
       "                        <td id=\"T_31148_row7_col4\" class=\"data row7 col4\" >0.5898</td>\n",
       "                        <td id=\"T_31148_row7_col5\" class=\"data row7 col5\" >0.6363</td>\n",
       "                        <td id=\"T_31148_row7_col6\" class=\"data row7 col6\" >0.0335</td>\n",
       "                        <td id=\"T_31148_row7_col7\" class=\"data row7 col7\" >0.0255</td>\n",
       "                        <td id=\"T_31148_row7_col8\" class=\"data row7 col8\" >0.0530</td>\n",
       "            </tr>\n",
       "            <tr>\n",
       "                        <th id=\"T_31148_level0_row8\" class=\"row_heading level0 row8\" >lr</th>\n",
       "                        <td id=\"T_31148_row8_col0\" class=\"data row8 col0\" >Logistic Regression</td>\n",
       "                        <td id=\"T_31148_row8_col1\" class=\"data row8 col1\" >0.5306</td>\n",
       "                        <td id=\"T_31148_row8_col2\" class=\"data row8 col2\" >0.4825</td>\n",
       "                        <td id=\"T_31148_row8_col3\" class=\"data row8 col3\" >0.6600</td>\n",
       "                        <td id=\"T_31148_row8_col4\" class=\"data row8 col4\" >0.5738</td>\n",
       "                        <td id=\"T_31148_row8_col5\" class=\"data row8 col5\" >0.6035</td>\n",
       "                        <td id=\"T_31148_row8_col6\" class=\"data row8 col6\" >0.0218</td>\n",
       "                        <td id=\"T_31148_row8_col7\" class=\"data row8 col7\" >0.0359</td>\n",
       "                        <td id=\"T_31148_row8_col8\" class=\"data row8 col8\" >0.5850</td>\n",
       "            </tr>\n",
       "            <tr>\n",
       "                        <th id=\"T_31148_level0_row9\" class=\"row_heading level0 row9\" >ridge</th>\n",
       "                        <td id=\"T_31148_row9_col0\" class=\"data row9 col0\" >Ridge Classifier</td>\n",
       "                        <td id=\"T_31148_row9_col1\" class=\"data row9 col1\" >0.4750</td>\n",
       "                        <td id=\"T_31148_row9_col2\" class=\"data row9 col2\" >0.0000</td>\n",
       "                        <td id=\"T_31148_row9_col3\" class=\"data row9 col3\" >0.5800</td>\n",
       "                        <td id=\"T_31148_row9_col4\" class=\"data row9 col4\" >0.5405</td>\n",
       "                        <td id=\"T_31148_row9_col5\" class=\"data row9 col5\" >0.5520</td>\n",
       "                        <td id=\"T_31148_row9_col6\" class=\"data row9 col6\" >-0.0887</td>\n",
       "                        <td id=\"T_31148_row9_col7\" class=\"data row9 col7\" >-0.0896</td>\n",
       "                        <td id=\"T_31148_row9_col8\" class=\"data row9 col8\" >0.0080</td>\n",
       "            </tr>\n",
       "            <tr>\n",
       "                        <th id=\"T_31148_level0_row10\" class=\"row_heading level0 row10\" >svm</th>\n",
       "                        <td id=\"T_31148_row10_col0\" class=\"data row10 col0\" >SVM - Linear Kernel</td>\n",
       "                        <td id=\"T_31148_row10_col1\" class=\"data row10 col1\" >0.4722</td>\n",
       "                        <td id=\"T_31148_row10_col2\" class=\"data row10 col2\" >0.0000</td>\n",
       "                        <td id=\"T_31148_row10_col3\" class=\"data row10 col3\" >0.4800</td>\n",
       "                        <td id=\"T_31148_row10_col4\" class=\"data row10 col4\" >0.5520</td>\n",
       "                        <td id=\"T_31148_row10_col5\" class=\"data row10 col5\" >0.4652</td>\n",
       "                        <td id=\"T_31148_row10_col6\" class=\"data row10 col6\" >-0.0428</td>\n",
       "                        <td id=\"T_31148_row10_col7\" class=\"data row10 col7\" >-0.0320</td>\n",
       "                        <td id=\"T_31148_row10_col8\" class=\"data row10 col8\" >0.0130</td>\n",
       "            </tr>\n",
       "            <tr>\n",
       "                        <th id=\"T_31148_level0_row11\" class=\"row_heading level0 row11\" >qda</th>\n",
       "                        <td id=\"T_31148_row11_col0\" class=\"data row11 col0\" >Quadratic Discriminant Analysis</td>\n",
       "                        <td id=\"T_31148_row11_col1\" class=\"data row11 col1\" >0.4667</td>\n",
       "                        <td id=\"T_31148_row11_col2\" class=\"data row11 col2\" >0.4500</td>\n",
       "                        <td id=\"T_31148_row11_col3\" class=\"data row11 col3\" >0.6000</td>\n",
       "                        <td id=\"T_31148_row11_col4\" class=\"data row11 col4\" >0.4959</td>\n",
       "                        <td id=\"T_31148_row11_col5\" class=\"data row11 col5\" >0.5300</td>\n",
       "                        <td id=\"T_31148_row11_col6\" class=\"data row11 col6\" >-0.0984</td>\n",
       "                        <td id=\"T_31148_row11_col7\" class=\"data row11 col7\" >-0.1155</td>\n",
       "                        <td id=\"T_31148_row11_col8\" class=\"data row11 col8\" >0.0150</td>\n",
       "            </tr>\n",
       "            <tr>\n",
       "                        <th id=\"T_31148_level0_row12\" class=\"row_heading level0 row12\" >ada</th>\n",
       "                        <td id=\"T_31148_row12_col0\" class=\"data row12 col0\" >Ada Boost Classifier</td>\n",
       "                        <td id=\"T_31148_row12_col1\" class=\"data row12 col1\" >0.4639</td>\n",
       "                        <td id=\"T_31148_row12_col2\" class=\"data row12 col2\" >0.4542</td>\n",
       "                        <td id=\"T_31148_row12_col3\" class=\"data row12 col3\" >0.5400</td>\n",
       "                        <td id=\"T_31148_row12_col4\" class=\"data row12 col4\" >0.5345</td>\n",
       "                        <td id=\"T_31148_row12_col5\" class=\"data row12 col5\" >0.5260</td>\n",
       "                        <td id=\"T_31148_row12_col6\" class=\"data row12 col6\" >-0.1055</td>\n",
       "                        <td id=\"T_31148_row12_col7\" class=\"data row12 col7\" >-0.1143</td>\n",
       "                        <td id=\"T_31148_row12_col8\" class=\"data row12 col8\" >0.0440</td>\n",
       "            </tr>\n",
       "            <tr>\n",
       "                        <th id=\"T_31148_level0_row13\" class=\"row_heading level0 row13\" >lda</th>\n",
       "                        <td id=\"T_31148_row13_col0\" class=\"data row13 col0\" >Linear Discriminant Analysis</td>\n",
       "                        <td id=\"T_31148_row13_col1\" class=\"data row13 col1\" >0.4528</td>\n",
       "                        <td id=\"T_31148_row13_col2\" class=\"data row13 col2\" >0.4208</td>\n",
       "                        <td id=\"T_31148_row13_col3\" class=\"data row13 col3\" >0.5400</td>\n",
       "                        <td id=\"T_31148_row13_col4\" class=\"data row13 col4\" >0.5262</td>\n",
       "                        <td id=\"T_31148_row13_col5\" class=\"data row13 col5\" >0.5253</td>\n",
       "                        <td id=\"T_31148_row13_col6\" class=\"data row13 col6\" >-0.1304</td>\n",
       "                        <td id=\"T_31148_row13_col7\" class=\"data row13 col7\" >-0.1375</td>\n",
       "                        <td id=\"T_31148_row13_col8\" class=\"data row13 col8\" >0.0160</td>\n",
       "            </tr>\n",
       "            <tr>\n",
       "                        <th id=\"T_31148_level0_row14\" class=\"row_heading level0 row14\" >nb</th>\n",
       "                        <td id=\"T_31148_row14_col0\" class=\"data row14 col0\" >Naive Bayes</td>\n",
       "                        <td id=\"T_31148_row14_col1\" class=\"data row14 col1\" >0.4097</td>\n",
       "                        <td id=\"T_31148_row14_col2\" class=\"data row14 col2\" >0.4992</td>\n",
       "                        <td id=\"T_31148_row14_col3\" class=\"data row14 col3\" >0.1200</td>\n",
       "                        <td id=\"T_31148_row14_col4\" class=\"data row14 col4\" >0.1238</td>\n",
       "                        <td id=\"T_31148_row14_col5\" class=\"data row14 col5\" >0.1167</td>\n",
       "                        <td id=\"T_31148_row14_col6\" class=\"data row14 col6\" >-0.0830</td>\n",
       "                        <td id=\"T_31148_row14_col7\" class=\"data row14 col7\" >-0.1059</td>\n",
       "                        <td id=\"T_31148_row14_col8\" class=\"data row14 col8\" >0.0120</td>\n",
       "            </tr>\n",
       "    </tbody></table>"
      ],
      "text/plain": [
       "<pandas.io.formats.style.Styler at 0x1bd6bd37bc8>"
      ]
     },
     "metadata": {},
     "output_type": "display_data"
    },
    {
     "name": "stdout",
     "output_type": "stream",
     "text": [
      "XGBClassifier(base_score=0.5, booster='gbtree', colsample_bylevel=1,\n",
      "              colsample_bynode=1, colsample_bytree=1, enable_categorical=False,\n",
      "              gamma=0, gpu_id=-1, importance_type=None,\n",
      "              interaction_constraints='', learning_rate=0.300000012,\n",
      "              max_delta_step=0, max_depth=6, min_child_weight=1, missing=nan,\n",
      "              monotone_constraints='()', n_estimators=100, n_jobs=-1,\n",
      "              num_parallel_tree=1, objective='binary:logistic',\n",
      "              predictor='auto', random_state=3334, reg_alpha=0, reg_lambda=1,\n",
      "              scale_pos_weight=1, subsample=1, tree_method='auto',\n",
      "              use_label_encoder=True, validate_parameters=1, verbosity=0)\n"
     ]
    }
   ],
   "source": [
    "clf1 = setup(happy_df, target = happy_df.columns[0], silent = True, verbose = False)\n",
    "top5 = compare_models(n_select = 3) \n",
    "#find the best model\n",
    "best = automl(optimize = 'Accuracy')\n",
    "print(best)"
   ]
  },
  {
   "cell_type": "markdown",
   "id": "d8ea8ebf",
   "metadata": {},
   "source": [
    "# VOTING CLASSIFIER"
   ]
  },
  {
   "cell_type": "code",
   "execution_count": 50,
   "id": "a445a4fe",
   "metadata": {},
   "outputs": [],
   "source": [
    "from sklearn.tree import DecisionTreeClassifier\n",
    "from sklearn.ensemble import ExtraTreesClassifier, RandomForestClassifier, VotingClassifier\n",
    "#import xgboost as xgb\n",
    "# Decision Tree Classifier\n",
    "\n",
    "clf1 = DecisionTreeClassifier()\n",
    "\n",
    "# Random Forest Classifier\n",
    "\n",
    "clf2 = RandomForestClassifier()\n",
    "\n",
    "# Extra Trees Classifier\n",
    "\n",
    "clf3 = ExtraTreesClassifier()"
   ]
  },
  {
   "cell_type": "code",
   "execution_count": 51,
   "id": "e7ebbc98",
   "metadata": {},
   "outputs": [],
   "source": [
    "# Create empty lists that will storage the different weights\n",
    "\n",
    "weights1 = []\n",
    "weights2 = []\n",
    "weights3 = []\n",
    "scores = []\n",
    "\n",
    "# Create a for loop to evaluate different combinations of weights\n",
    "\n",
    "for i in np.arange(0.1,1, 0.1):\n",
    "    for j in np.arange(0.1,1, 0.1):\n",
    "        for k in np.arange(0.1,1, 0.1):\n",
    "            clf_voting = VotingClassifier(estimators = [('est1', clf1), ('est2', clf2),\n",
    "                                           ('est3', clf3)], voting = 'soft', weights = [i, j, k])\n",
    "            clf_voting.fit(X_train, y_train)\n",
    "            pred = clf_voting.predict(X_test)\n",
    "            score = accuracy_score(y_test, pred)\n",
    "            scores.append(score)\n",
    "            weights1.append(i)\n",
    "            weights2.append(j)\n",
    "            weights3.append(k)"
   ]
  },
  {
   "cell_type": "code",
   "execution_count": 52,
   "id": "0b6dae11",
   "metadata": {},
   "outputs": [],
   "source": [
    "# Save the results in a data frame\n",
    "\n",
    "test_scores = pd.DataFrame()\n",
    "test_scores['Weight1'] = weights1\n",
    "test_scores['Weight2'] = weights2\n",
    "test_scores['Weight3'] = weights3\n",
    "test_scores['Test Score'] = scores\n",
    "\n",
    "# Create an additional column to save the sum of all the weights\n",
    "\n",
    "test_scores['sum_weights'] = test_scores['Weight1'].add(test_scores['Weight2']).add(test_scores['Weight3'])\n",
    "\n",
    "#We are only getting the rows that the sum of all weights were equal to one\n",
    "\n",
    "condition = test_scores['sum_weights'] == 1\n",
    "\n",
    "test_scores = test_scores.loc[condition]"
   ]
  },
  {
   "cell_type": "code",
   "execution_count": 53,
   "id": "c1e5c1fc",
   "metadata": {},
   "outputs": [
    {
     "name": "stdout",
     "output_type": "stream",
     "text": [
      "     Weight1  Weight2  Weight3  Test Score  sum_weights\n",
      "87       0.2      0.1      0.7    0.736842          1.0\n",
      "39       0.1      0.5      0.4    0.736842          1.0\n",
      "47       0.1      0.6      0.3    0.736842          1.0\n",
      "95       0.2      0.2      0.6    0.736842          1.0\n",
      "103      0.2      0.3      0.5    0.684211          1.0\n",
      "175      0.3      0.2      0.5    0.684211          1.0\n",
      "167      0.3      0.1      0.6    0.684211          1.0\n",
      "199      0.3      0.5      0.2    0.684211          1.0\n",
      "119      0.2      0.5      0.3    0.684211          1.0\n",
      "111      0.2      0.4      0.4    0.684211          1.0\n",
      "7        0.1      0.1      0.8    0.684211          1.0\n",
      "15       0.1      0.2      0.7    0.684211          1.0\n",
      "63       0.1      0.8      0.1    0.684211          1.0\n",
      "55       0.1      0.7      0.2    0.684211          1.0\n",
      "31       0.1      0.4      0.5    0.684211          1.0\n",
      "183      0.3      0.3      0.4    0.684211          1.0\n",
      "263      0.4      0.3      0.3    0.631579          1.0\n",
      "191      0.3      0.4      0.3    0.631579          1.0\n",
      "127      0.2      0.6      0.2    0.631579          1.0\n",
      "23       0.1      0.3      0.6    0.631579          1.0\n",
      "207      0.3      0.6      0.1    0.578947          1.0\n",
      "247      0.4      0.1      0.5    0.578947          1.0\n",
      "255      0.4      0.2      0.4    0.578947          1.0\n",
      "271      0.4      0.4      0.2    0.578947          1.0\n",
      "279      0.4      0.5      0.1    0.578947          1.0\n",
      "335      0.5      0.2      0.3    0.578947          1.0\n",
      "343      0.5      0.3      0.2    0.578947          1.0\n",
      "407      0.6      0.1      0.3    0.578947          1.0\n",
      "567      0.8      0.1      0.1    0.578947          1.0\n",
      "351      0.5      0.4      0.1    0.526316          1.0\n",
      "415      0.6      0.2      0.2    0.526316          1.0\n",
      "423      0.6      0.3      0.1    0.473684          1.0\n",
      "327      0.5      0.1      0.4    0.421053          1.0\n",
      "487      0.7      0.1      0.2    0.421053          1.0\n"
     ]
    }
   ],
   "source": [
    "print(test_scores.sort_values('Test Score', ascending=False))"
   ]
  },
  {
   "cell_type": "code",
   "execution_count": 54,
   "id": "7906f32f",
   "metadata": {},
   "outputs": [],
   "source": [
    "def evaluate_model(classifier, X_tr, y_tr, X_te, y_te):\n",
    "    \n",
    "    clf = classifier\n",
    "    clf.fit(X_tr,y_tr)\n",
    "    y_pr = clf.predict(X_te)\n",
    "    \n",
    "    score = clf.score(X_tr, y_tr)\n",
    "    accuracy = accuracy_score(y_te, y_pr)\n",
    "    \n",
    "    print(f'Train score: {score}\\nTest accuracy: {accuracy}\\nDifference: {score - accuracy}')\n",
    "    \n",
    "    return clf, y_te, y_pr"
   ]
  },
  {
   "cell_type": "code",
   "execution_count": 55,
   "id": "2b0f52f3",
   "metadata": {},
   "outputs": [
    {
     "name": "stdout",
     "output_type": "stream",
     "text": [
      "Train score: 0.9439252336448598\n",
      "Test accuracy: 0.6842105263157895\n",
      "Difference: 0.2597147073290703\n"
     ]
    }
   ],
   "source": [
    "# Create the Voting Classifier with soft voting because all models perform similarly\n",
    "clf_voting = VotingClassifier(estimators = [('est1', clf1), ('est2', clf2),\n",
    "                                           ('est3', clf3)], voting = 'hard', weights=[0.4, 0.3, 0.3])\n",
    "#Fit and predict\n",
    "vc, y_test, y_pred = evaluate_model(clf_voting, X_train, y_train, X_test, y_test)"
   ]
  },
  {
   "cell_type": "code",
   "execution_count": 56,
   "id": "db29b682",
   "metadata": {},
   "outputs": [],
   "source": [
    "def compute_feature_importance(voting_clf, weights):\n",
    "    \"\"\" Function to compute feature importance of Voting Classifier \"\"\"\n",
    "    \n",
    "    feature_importance = dict()\n",
    "    for est in voting_clf.estimators_:\n",
    "        feature_importance[str(est)] = est.feature_importances_\n",
    "    \n",
    "    fe_scores = [0]*len(list(feature_importance.values())[0])\n",
    "    for idx, imp_score in enumerate(feature_importance.values()):\n",
    "        imp_score_with_weight = imp_score*weights[idx]\n",
    "        fe_scores = list(np.add(fe_scores, list(imp_score_with_weight)))\n",
    "    return fe_scores"
   ]
  },
  {
   "cell_type": "code",
   "execution_count": 57,
   "id": "0abb2e5e",
   "metadata": {},
   "outputs": [
    {
     "data": {
      "text/html": [
       "<div>\n",
       "<style scoped>\n",
       "    .dataframe tbody tr th:only-of-type {\n",
       "        vertical-align: middle;\n",
       "    }\n",
       "\n",
       "    .dataframe tbody tr th {\n",
       "        vertical-align: top;\n",
       "    }\n",
       "\n",
       "    .dataframe thead th {\n",
       "        text-align: right;\n",
       "    }\n",
       "</style>\n",
       "<table border=\"1\" class=\"dataframe\">\n",
       "  <thead>\n",
       "    <tr style=\"text-align: right;\">\n",
       "      <th></th>\n",
       "      <th>Feature</th>\n",
       "      <th>Feature Importance</th>\n",
       "    </tr>\n",
       "  </thead>\n",
       "  <tbody>\n",
       "    <tr>\n",
       "      <th>2</th>\n",
       "      <td>order_completed</td>\n",
       "      <td>0.778010</td>\n",
       "    </tr>\n",
       "    <tr>\n",
       "      <th>4</th>\n",
       "      <td>courier_satisfaction</td>\n",
       "      <td>0.724476</td>\n",
       "    </tr>\n",
       "    <tr>\n",
       "      <th>1</th>\n",
       "      <td>order_satisfaction</td>\n",
       "      <td>0.698185</td>\n",
       "    </tr>\n",
       "    <tr>\n",
       "      <th>0</th>\n",
       "      <td>delivered_OnTime</td>\n",
       "      <td>0.669065</td>\n",
       "    </tr>\n",
       "    <tr>\n",
       "      <th>3</th>\n",
       "      <td>price_satisfaction</td>\n",
       "      <td>0.584394</td>\n",
       "    </tr>\n",
       "    <tr>\n",
       "      <th>5</th>\n",
       "      <td>app_satisfaction</td>\n",
       "      <td>0.545870</td>\n",
       "    </tr>\n",
       "  </tbody>\n",
       "</table>\n",
       "</div>"
      ],
      "text/plain": [
       "                Feature  Feature Importance\n",
       "2       order_completed            0.778010\n",
       "4  courier_satisfaction            0.724476\n",
       "1    order_satisfaction            0.698185\n",
       "0      delivered_OnTime            0.669065\n",
       "3    price_satisfaction            0.584394\n",
       "5      app_satisfaction            0.545870"
      ]
     },
     "execution_count": 57,
     "metadata": {},
     "output_type": "execute_result"
    }
   ],
   "source": [
    "df = pd.DataFrame()\n",
    "df['Feature'] = X_train.columns\n",
    "df['Feature Importance'] = compute_feature_importance(clf_voting, [1, 1, 2])\n",
    "df.sort_values('Feature Importance', ascending=False)"
   ]
  },
  {
   "cell_type": "code",
   "execution_count": null,
   "id": "f6edfab2",
   "metadata": {},
   "outputs": [],
   "source": []
  }
 ],
 "metadata": {
  "kernelspec": {
   "display_name": "PythonData",
   "language": "python",
   "name": "pythondata"
  },
  "language_info": {
   "codemirror_mode": {
    "name": "ipython",
    "version": 3
   },
   "file_extension": ".py",
   "mimetype": "text/x-python",
   "name": "python",
   "nbconvert_exporter": "python",
   "pygments_lexer": "ipython3",
   "version": "3.7.10"
  }
 },
 "nbformat": 4,
 "nbformat_minor": 5
}
